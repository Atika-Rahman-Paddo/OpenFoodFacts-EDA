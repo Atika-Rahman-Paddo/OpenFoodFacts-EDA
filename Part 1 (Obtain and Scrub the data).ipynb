{
 "cells": [
  {
   "cell_type": "markdown",
   "metadata": {},
   "source": [
    "# SoftUni Data Science Exam Project - Part 1 (Obtain and Scrub the data)"
   ]
  },
  {
   "cell_type": "markdown",
   "metadata": {},
   "source": [
    "## Created by Konstantin Georgiev"
   ]
  },
  {
   "cell_type": "markdown",
   "metadata": {},
   "source": [
    "### Email: dragonflareful@gmail.com"
   ]
  },
  {
   "cell_type": "markdown",
   "metadata": {},
   "source": [
    "## Introduction"
   ]
  },
  {
   "cell_type": "markdown",
   "metadata": {},
   "source": [
    "This research aims to provide more insight on the healthiness of french food products based on their nutrition value. \n",
    "\n",
    "The reason why I've chosen to single out french products is because France is one of the first countries to create the nutrition labelling system, which was introduced in 2015 and aims to decrease diet-related diseases and obesity across Europe. They have labeled the products with grades ranging from __'A'__ to __'E'__, __'A'__ meaning that the product has excellent nutritional quality and __'E'__ meaning that it has very poor nutritional quality. I will be using this grading system to determine which nutrients make the most impact on the grade level of the product. In order to compare my findings, I will use two additional fast food related datasets to see how the nutrition values relate to one another.\n",
    "\n",
    "I have chosen to divide the process in three separate parts:<br><br>\n",
    " __1. Loading and cleaning the three datasets.__<br><br>\n",
    " __2. Performing Exploratory Data Analysis using the cleaned data from part 1.__<br><br>\n",
    " __3. Performing simple modelling also using the cleaned data from part 1.__<br><br>"
   ]
  },
  {
   "cell_type": "markdown",
   "metadata": {},
   "source": [
    "### Libraries"
   ]
  },
  {
   "cell_type": "markdown",
   "metadata": {},
   "source": [
    " - pandas - main library used for loading, cleaning and filtering the datasets\n",
    " - numpy - for math calculations, working with NaN's, filtering with conditions \n",
    " - matplotlib - for visualizations during exploration\n",
    " - nose.tools - for unit testing\n",
    " - scipy - for hypothesis testing\n",
    " - basemap - for plotting a map of the locations where the products were packaged\n",
    " - scikit-learn - preprocessing and logistic regression"
   ]
  },
  {
   "cell_type": "markdown",
   "metadata": {},
   "source": [
    "### Datasets "
   ]
  },
  {
   "cell_type": "markdown",
   "metadata": {},
   "source": [
    " - __Open Food Facts__ - https://www.kaggle.com/openfoodfacts/world-food-facts - provides information on food products like ingredients, alergens, and most importantly various nutrition facts, which will be very useful in my case<br><br>\n",
    " \n",
    " - __Nutrition Facts for McDonalds Menu__ - https://www.kaggle.com/mcdonalds/nutrition-facts - provides detailed information on the amount of nutrients contained in each McDonalds product<br><br>\n",
    " \n",
    " - __Nutrition Facts for Starbucks Menu__ - https://www.kaggle.com/starbucks/starbucks-menu - provides detailed information on the amount of nutrients contained in each Starbucks product"
   ]
  },
  {
   "cell_type": "markdown",
   "metadata": {},
   "source": [
    "### Problem statements"
   ]
  },
  {
   "cell_type": "markdown",
   "metadata": {},
   "source": [
    "In an attempt to research the nutrition values of the french products and what affects them, I have chosen to compare them to fast-food products such as McDonalds - in terms of meat quality, and Starbucks - in terms of beverage quality.\n",
    "I will also be looking into other factors such as packaging, food additive count and whether the products contain ingredients with palm oil or not.\n",
    "So the main questions I'll be looking to answer are:\n",
    " - __Which nutrient has the biggest impact on the nutrition grade?__<br><br>\n",
    " - __How do french meat and beverages compare to McDonalds meat and Starbucks beverages in terms of nutrients?__<br><br>\n",
    " - __Do other factors like food packaging, additive count and palm oil in the ingredients have an impact on the nutrition value?__<br><br>\n",
    "\n",
    "To answer these questions I have chosen to single out the three most popular and most essential nutrients contained in food: __carbohydrates__, __fat__ and __protein__."
   ]
  },
  {
   "cell_type": "markdown",
   "metadata": {},
   "source": [
    "### Project structure"
   ]
  },
  {
   "cell_type": "markdown",
   "metadata": {},
   "source": [
    "I have chosen to divide my project in three separate notebooks, in order to improve readability. The first part involves obtaining and cleaning the three datasets, as well as filtering them for EDA and finally exporting them. The second part is the core of the project and includes exploratory data analysis on the three cleaned datasets, visualizations and hypothesis testing. The final part is done just for fun - a simple logistic regression model, which will attempt to predict whether a french product contains additives or not."
   ]
  },
  {
   "cell_type": "markdown",
   "metadata": {},
   "source": [
    "I will start this research by loading and cleaning each dataset separately. The first thing we need to do is load the required packages."
   ]
  },
  {
   "cell_type": "code",
   "execution_count": 1,
   "metadata": {},
   "outputs": [],
   "source": [
    "import pandas as pd\n",
    "import numpy as np\n",
    "\n",
    "from nose.tools import *"
   ]
  },
  {
   "cell_type": "markdown",
   "metadata": {},
   "source": [
    "## Step 1 - The Open Food Facts dataset"
   ]
  },
  {
   "cell_type": "markdown",
   "metadata": {},
   "source": [
    "### Obtaining the dataset"
   ]
  },
  {
   "cell_type": "markdown",
   "metadata": {},
   "source": [
    "Let's start by obtaining the dataset and checking whether it was correctly loaded into a `pandas` dataframe. It seems to be tab-separated, so I'm keeping that in mind."
   ]
  },
  {
   "cell_type": "code",
   "execution_count": 2,
   "metadata": {},
   "outputs": [],
   "source": [
    "world_food_data=pd.read_csv(\"data/en.openfoodfacts.org.products.tsv\", sep=\"\\t\", low_memory=False)"
   ]
  },
  {
   "cell_type": "code",
   "execution_count": 3,
   "metadata": {},
   "outputs": [],
   "source": [
    "assert_is_not_none(world_food_data)"
   ]
  },
  {
   "cell_type": "markdown",
   "metadata": {},
   "source": [
    "Next I'm going get a view of what the dataframe looks like by printing the first few rows and its shape."
   ]
  },
  {
   "cell_type": "code",
   "execution_count": 4,
   "metadata": {
    "scrolled": true
   },
   "outputs": [
    {
     "data": {
      "text/html": [
       "<div>\n",
       "<style scoped>\n",
       "    .dataframe tbody tr th:only-of-type {\n",
       "        vertical-align: middle;\n",
       "    }\n",
       "\n",
       "    .dataframe tbody tr th {\n",
       "        vertical-align: top;\n",
       "    }\n",
       "\n",
       "    .dataframe thead th {\n",
       "        text-align: right;\n",
       "    }\n",
       "</style>\n",
       "<table border=\"1\" class=\"dataframe\">\n",
       "  <thead>\n",
       "    <tr style=\"text-align: right;\">\n",
       "      <th></th>\n",
       "      <th>code</th>\n",
       "      <th>url</th>\n",
       "      <th>creator</th>\n",
       "      <th>created_t</th>\n",
       "      <th>created_datetime</th>\n",
       "      <th>last_modified_t</th>\n",
       "      <th>last_modified_datetime</th>\n",
       "      <th>product_name</th>\n",
       "      <th>generic_name</th>\n",
       "      <th>quantity</th>\n",
       "      <th>...</th>\n",
       "      <th>fruits-vegetables-nuts_100g</th>\n",
       "      <th>fruits-vegetables-nuts-estimate_100g</th>\n",
       "      <th>collagen-meat-protein-ratio_100g</th>\n",
       "      <th>cocoa_100g</th>\n",
       "      <th>chlorophyl_100g</th>\n",
       "      <th>carbon-footprint_100g</th>\n",
       "      <th>nutrition-score-fr_100g</th>\n",
       "      <th>nutrition-score-uk_100g</th>\n",
       "      <th>glycemic-index_100g</th>\n",
       "      <th>water-hardness_100g</th>\n",
       "    </tr>\n",
       "  </thead>\n",
       "  <tbody>\n",
       "    <tr>\n",
       "      <th>0</th>\n",
       "      <td>0000000003087</td>\n",
       "      <td>http://world-en.openfoodfacts.org/product/0000...</td>\n",
       "      <td>openfoodfacts-contributors</td>\n",
       "      <td>1474103866</td>\n",
       "      <td>2016-09-17T09:17:46Z</td>\n",
       "      <td>1474103893</td>\n",
       "      <td>2016-09-17T09:18:13Z</td>\n",
       "      <td>Farine de blé noir</td>\n",
       "      <td>NaN</td>\n",
       "      <td>1kg</td>\n",
       "      <td>...</td>\n",
       "      <td>NaN</td>\n",
       "      <td>NaN</td>\n",
       "      <td>NaN</td>\n",
       "      <td>NaN</td>\n",
       "      <td>NaN</td>\n",
       "      <td>NaN</td>\n",
       "      <td>NaN</td>\n",
       "      <td>NaN</td>\n",
       "      <td>NaN</td>\n",
       "      <td>NaN</td>\n",
       "    </tr>\n",
       "    <tr>\n",
       "      <th>1</th>\n",
       "      <td>0000000004530</td>\n",
       "      <td>http://world-en.openfoodfacts.org/product/0000...</td>\n",
       "      <td>usda-ndb-import</td>\n",
       "      <td>1489069957</td>\n",
       "      <td>2017-03-09T14:32:37Z</td>\n",
       "      <td>1489069957</td>\n",
       "      <td>2017-03-09T14:32:37Z</td>\n",
       "      <td>Banana Chips Sweetened (Whole)</td>\n",
       "      <td>NaN</td>\n",
       "      <td>NaN</td>\n",
       "      <td>...</td>\n",
       "      <td>NaN</td>\n",
       "      <td>NaN</td>\n",
       "      <td>NaN</td>\n",
       "      <td>NaN</td>\n",
       "      <td>NaN</td>\n",
       "      <td>NaN</td>\n",
       "      <td>14.0</td>\n",
       "      <td>14.0</td>\n",
       "      <td>NaN</td>\n",
       "      <td>NaN</td>\n",
       "    </tr>\n",
       "    <tr>\n",
       "      <th>2</th>\n",
       "      <td>0000000004559</td>\n",
       "      <td>http://world-en.openfoodfacts.org/product/0000...</td>\n",
       "      <td>usda-ndb-import</td>\n",
       "      <td>1489069957</td>\n",
       "      <td>2017-03-09T14:32:37Z</td>\n",
       "      <td>1489069957</td>\n",
       "      <td>2017-03-09T14:32:37Z</td>\n",
       "      <td>Peanuts</td>\n",
       "      <td>NaN</td>\n",
       "      <td>NaN</td>\n",
       "      <td>...</td>\n",
       "      <td>NaN</td>\n",
       "      <td>NaN</td>\n",
       "      <td>NaN</td>\n",
       "      <td>NaN</td>\n",
       "      <td>NaN</td>\n",
       "      <td>NaN</td>\n",
       "      <td>0.0</td>\n",
       "      <td>0.0</td>\n",
       "      <td>NaN</td>\n",
       "      <td>NaN</td>\n",
       "    </tr>\n",
       "    <tr>\n",
       "      <th>3</th>\n",
       "      <td>0000000016087</td>\n",
       "      <td>http://world-en.openfoodfacts.org/product/0000...</td>\n",
       "      <td>usda-ndb-import</td>\n",
       "      <td>1489055731</td>\n",
       "      <td>2017-03-09T10:35:31Z</td>\n",
       "      <td>1489055731</td>\n",
       "      <td>2017-03-09T10:35:31Z</td>\n",
       "      <td>Organic Salted Nut Mix</td>\n",
       "      <td>NaN</td>\n",
       "      <td>NaN</td>\n",
       "      <td>...</td>\n",
       "      <td>NaN</td>\n",
       "      <td>NaN</td>\n",
       "      <td>NaN</td>\n",
       "      <td>NaN</td>\n",
       "      <td>NaN</td>\n",
       "      <td>NaN</td>\n",
       "      <td>12.0</td>\n",
       "      <td>12.0</td>\n",
       "      <td>NaN</td>\n",
       "      <td>NaN</td>\n",
       "    </tr>\n",
       "    <tr>\n",
       "      <th>4</th>\n",
       "      <td>0000000016094</td>\n",
       "      <td>http://world-en.openfoodfacts.org/product/0000...</td>\n",
       "      <td>usda-ndb-import</td>\n",
       "      <td>1489055653</td>\n",
       "      <td>2017-03-09T10:34:13Z</td>\n",
       "      <td>1489055653</td>\n",
       "      <td>2017-03-09T10:34:13Z</td>\n",
       "      <td>Organic Polenta</td>\n",
       "      <td>NaN</td>\n",
       "      <td>NaN</td>\n",
       "      <td>...</td>\n",
       "      <td>NaN</td>\n",
       "      <td>NaN</td>\n",
       "      <td>NaN</td>\n",
       "      <td>NaN</td>\n",
       "      <td>NaN</td>\n",
       "      <td>NaN</td>\n",
       "      <td>NaN</td>\n",
       "      <td>NaN</td>\n",
       "      <td>NaN</td>\n",
       "      <td>NaN</td>\n",
       "    </tr>\n",
       "  </tbody>\n",
       "</table>\n",
       "<p>5 rows × 163 columns</p>\n",
       "</div>"
      ],
      "text/plain": [
       "            code                                                url  \\\n",
       "0  0000000003087  http://world-en.openfoodfacts.org/product/0000...   \n",
       "1  0000000004530  http://world-en.openfoodfacts.org/product/0000...   \n",
       "2  0000000004559  http://world-en.openfoodfacts.org/product/0000...   \n",
       "3  0000000016087  http://world-en.openfoodfacts.org/product/0000...   \n",
       "4  0000000016094  http://world-en.openfoodfacts.org/product/0000...   \n",
       "\n",
       "                      creator   created_t      created_datetime  \\\n",
       "0  openfoodfacts-contributors  1474103866  2016-09-17T09:17:46Z   \n",
       "1             usda-ndb-import  1489069957  2017-03-09T14:32:37Z   \n",
       "2             usda-ndb-import  1489069957  2017-03-09T14:32:37Z   \n",
       "3             usda-ndb-import  1489055731  2017-03-09T10:35:31Z   \n",
       "4             usda-ndb-import  1489055653  2017-03-09T10:34:13Z   \n",
       "\n",
       "  last_modified_t last_modified_datetime                    product_name  \\\n",
       "0      1474103893   2016-09-17T09:18:13Z              Farine de blé noir   \n",
       "1      1489069957   2017-03-09T14:32:37Z  Banana Chips Sweetened (Whole)   \n",
       "2      1489069957   2017-03-09T14:32:37Z                         Peanuts   \n",
       "3      1489055731   2017-03-09T10:35:31Z          Organic Salted Nut Mix   \n",
       "4      1489055653   2017-03-09T10:34:13Z                 Organic Polenta   \n",
       "\n",
       "  generic_name quantity         ...         fruits-vegetables-nuts_100g  \\\n",
       "0          NaN      1kg         ...                                 NaN   \n",
       "1          NaN      NaN         ...                                 NaN   \n",
       "2          NaN      NaN         ...                                 NaN   \n",
       "3          NaN      NaN         ...                                 NaN   \n",
       "4          NaN      NaN         ...                                 NaN   \n",
       "\n",
       "  fruits-vegetables-nuts-estimate_100g collagen-meat-protein-ratio_100g  \\\n",
       "0                                  NaN                              NaN   \n",
       "1                                  NaN                              NaN   \n",
       "2                                  NaN                              NaN   \n",
       "3                                  NaN                              NaN   \n",
       "4                                  NaN                              NaN   \n",
       "\n",
       "  cocoa_100g chlorophyl_100g carbon-footprint_100g nutrition-score-fr_100g  \\\n",
       "0        NaN             NaN                   NaN                     NaN   \n",
       "1        NaN             NaN                   NaN                    14.0   \n",
       "2        NaN             NaN                   NaN                     0.0   \n",
       "3        NaN             NaN                   NaN                    12.0   \n",
       "4        NaN             NaN                   NaN                     NaN   \n",
       "\n",
       "  nutrition-score-uk_100g glycemic-index_100g water-hardness_100g  \n",
       "0                     NaN                 NaN                 NaN  \n",
       "1                    14.0                 NaN                 NaN  \n",
       "2                     0.0                 NaN                 NaN  \n",
       "3                    12.0                 NaN                 NaN  \n",
       "4                     NaN                 NaN                 NaN  \n",
       "\n",
       "[5 rows x 163 columns]"
      ]
     },
     "execution_count": 4,
     "metadata": {},
     "output_type": "execute_result"
    }
   ],
   "source": [
    "world_food_data.head()"
   ]
  },
  {
   "cell_type": "code",
   "execution_count": 5,
   "metadata": {},
   "outputs": [
    {
     "name": "stdout",
     "output_type": "stream",
     "text": [
      "Total 356027 observations on 163 features\n"
     ]
    }
   ],
   "source": [
    "print(\"Total {} observations on {} features\".format(world_food_data.shape[0],world_food_data.shape[1]))"
   ]
  },
  {
   "cell_type": "markdown",
   "metadata": {},
   "source": [
    "### Cleaning the dataset"
   ]
  },
  {
   "cell_type": "markdown",
   "metadata": {},
   "source": [
    "We can see that the dataframe is pretty large and that's not ideal for exploration. So I'm going to pick the features I'll be using later on in part 2:\n",
    "`[\"product_name\",\"packaging\",\"main_category\",\"nutrition_grade_fr\",`<br>`\"nutrition_score_fr_100g\",\"fat_100g\",\"carbohydrates_100g\",\"proteins_100g\",\"additives_n\",`<br>`\"ingredients_from_palm_oil_n\",\"first_packaging_code_geo\"]`<br>\n",
    "These columns are the main factors for exploration, which I set in my questions. Also, the last column represents the packaging coordinates of the products. I will keep that as well for confirmation of the product locations. After that, I'm going to rename some of the columns so that their names are more pythonic and accessible.<br>\n",
    "Now there should be only 11 columns left in the dataframe."
   ]
  },
  {
   "cell_type": "code",
   "execution_count": 6,
   "metadata": {},
   "outputs": [],
   "source": [
    "cols_to_keep=[\"product_name\",\"packaging\",\"main_category\",\"nutrition_grade_fr\",\n",
    "              \"nutrition-score-fr_100g\",\"fat_100g\",\"carbohydrates_100g\",\"proteins_100g\",\n",
    "               \"additives_n\",\"ingredients_from_palm_oil_n\",\"first_packaging_code_geo\"]\n",
    "world_food_data=world_food_data[cols_to_keep]\n",
    "world_food_data=world_food_data.rename(columns={\"nutrition-score-fr_100g\":\"nutrition_score\",\n",
    "                                                \"fat_100g\":\"fat_g\",\n",
    "                                               \"carbohydrates_100g\":\"carbohydrates_g\",\n",
    "                                               \"proteins_100g\":\"proteins_g\"})"
   ]
  },
  {
   "cell_type": "code",
   "execution_count": 7,
   "metadata": {},
   "outputs": [],
   "source": [
    "assert_equal(world_food_data.shape[1],11)"
   ]
  },
  {
   "cell_type": "code",
   "execution_count": 8,
   "metadata": {},
   "outputs": [
    {
     "data": {
      "text/html": [
       "<div>\n",
       "<style scoped>\n",
       "    .dataframe tbody tr th:only-of-type {\n",
       "        vertical-align: middle;\n",
       "    }\n",
       "\n",
       "    .dataframe tbody tr th {\n",
       "        vertical-align: top;\n",
       "    }\n",
       "\n",
       "    .dataframe thead th {\n",
       "        text-align: right;\n",
       "    }\n",
       "</style>\n",
       "<table border=\"1\" class=\"dataframe\">\n",
       "  <thead>\n",
       "    <tr style=\"text-align: right;\">\n",
       "      <th></th>\n",
       "      <th>product_name</th>\n",
       "      <th>packaging</th>\n",
       "      <th>main_category</th>\n",
       "      <th>nutrition_grade_fr</th>\n",
       "      <th>nutrition_score</th>\n",
       "      <th>fat_g</th>\n",
       "      <th>carbohydrates_g</th>\n",
       "      <th>proteins_g</th>\n",
       "      <th>additives_n</th>\n",
       "      <th>ingredients_from_palm_oil_n</th>\n",
       "      <th>first_packaging_code_geo</th>\n",
       "    </tr>\n",
       "  </thead>\n",
       "  <tbody>\n",
       "    <tr>\n",
       "      <th>0</th>\n",
       "      <td>Farine de blé noir</td>\n",
       "      <td>NaN</td>\n",
       "      <td>NaN</td>\n",
       "      <td>NaN</td>\n",
       "      <td>NaN</td>\n",
       "      <td>NaN</td>\n",
       "      <td>NaN</td>\n",
       "      <td>NaN</td>\n",
       "      <td>NaN</td>\n",
       "      <td>NaN</td>\n",
       "      <td>NaN</td>\n",
       "    </tr>\n",
       "    <tr>\n",
       "      <th>1</th>\n",
       "      <td>Banana Chips Sweetened (Whole)</td>\n",
       "      <td>NaN</td>\n",
       "      <td>NaN</td>\n",
       "      <td>d</td>\n",
       "      <td>14.0</td>\n",
       "      <td>28.57</td>\n",
       "      <td>64.29</td>\n",
       "      <td>3.57</td>\n",
       "      <td>0.0</td>\n",
       "      <td>0.0</td>\n",
       "      <td>NaN</td>\n",
       "    </tr>\n",
       "    <tr>\n",
       "      <th>2</th>\n",
       "      <td>Peanuts</td>\n",
       "      <td>NaN</td>\n",
       "      <td>NaN</td>\n",
       "      <td>b</td>\n",
       "      <td>0.0</td>\n",
       "      <td>17.86</td>\n",
       "      <td>60.71</td>\n",
       "      <td>17.86</td>\n",
       "      <td>0.0</td>\n",
       "      <td>0.0</td>\n",
       "      <td>NaN</td>\n",
       "    </tr>\n",
       "    <tr>\n",
       "      <th>3</th>\n",
       "      <td>Organic Salted Nut Mix</td>\n",
       "      <td>NaN</td>\n",
       "      <td>NaN</td>\n",
       "      <td>d</td>\n",
       "      <td>12.0</td>\n",
       "      <td>57.14</td>\n",
       "      <td>17.86</td>\n",
       "      <td>17.86</td>\n",
       "      <td>0.0</td>\n",
       "      <td>0.0</td>\n",
       "      <td>NaN</td>\n",
       "    </tr>\n",
       "    <tr>\n",
       "      <th>4</th>\n",
       "      <td>Organic Polenta</td>\n",
       "      <td>NaN</td>\n",
       "      <td>NaN</td>\n",
       "      <td>NaN</td>\n",
       "      <td>NaN</td>\n",
       "      <td>1.43</td>\n",
       "      <td>77.14</td>\n",
       "      <td>8.57</td>\n",
       "      <td>0.0</td>\n",
       "      <td>0.0</td>\n",
       "      <td>NaN</td>\n",
       "    </tr>\n",
       "  </tbody>\n",
       "</table>\n",
       "</div>"
      ],
      "text/plain": [
       "                     product_name packaging main_category nutrition_grade_fr  \\\n",
       "0              Farine de blé noir       NaN           NaN                NaN   \n",
       "1  Banana Chips Sweetened (Whole)       NaN           NaN                  d   \n",
       "2                         Peanuts       NaN           NaN                  b   \n",
       "3          Organic Salted Nut Mix       NaN           NaN                  d   \n",
       "4                 Organic Polenta       NaN           NaN                NaN   \n",
       "\n",
       "   nutrition_score  fat_g  carbohydrates_g  proteins_g  additives_n  \\\n",
       "0              NaN    NaN              NaN         NaN          NaN   \n",
       "1             14.0  28.57            64.29        3.57          0.0   \n",
       "2              0.0  17.86            60.71       17.86          0.0   \n",
       "3             12.0  57.14            17.86       17.86          0.0   \n",
       "4              NaN   1.43            77.14        8.57          0.0   \n",
       "\n",
       "   ingredients_from_palm_oil_n first_packaging_code_geo  \n",
       "0                          NaN                      NaN  \n",
       "1                          0.0                      NaN  \n",
       "2                          0.0                      NaN  \n",
       "3                          0.0                      NaN  \n",
       "4                          0.0                      NaN  "
      ]
     },
     "execution_count": 8,
     "metadata": {},
     "output_type": "execute_result"
    }
   ],
   "source": [
    "world_food_data.head()"
   ]
  },
  {
   "cell_type": "markdown",
   "metadata": {},
   "source": [
    "Next I'm going to check out the values in some columns to get familiar with the data."
   ]
  },
  {
   "cell_type": "code",
   "execution_count": 9,
   "metadata": {},
   "outputs": [
    {
     "data": {
      "text/plain": [
       "266068"
      ]
     },
     "execution_count": 9,
     "metadata": {},
     "output_type": "execute_result"
    }
   ],
   "source": [
    "len(world_food_data[world_food_data.packaging.isnull()])"
   ]
  },
  {
   "cell_type": "code",
   "execution_count": 10,
   "metadata": {},
   "outputs": [
    {
     "data": {
      "text/plain": [
       "335155"
      ]
     },
     "execution_count": 10,
     "metadata": {},
     "output_type": "execute_result"
    }
   ],
   "source": [
    "len(world_food_data[world_food_data.first_packaging_code_geo.isnull()])"
   ]
  },
  {
   "cell_type": "code",
   "execution_count": 11,
   "metadata": {},
   "outputs": [
    {
     "data": {
      "text/plain": [
       "array([nan,  0.,  1.,  2.,  3.,  6.,  5.,  8.,  4., 10., 11.,  9.,  7.,\n",
       "       14., 12., 18., 22., 13., 20., 23., 17., 26., 21., 25., 15., 24.,\n",
       "       16., 19., 27., 29., 30.])"
      ]
     },
     "execution_count": 11,
     "metadata": {},
     "output_type": "execute_result"
    }
   ],
   "source": [
    "world_food_data.additives_n.unique()"
   ]
  },
  {
   "cell_type": "code",
   "execution_count": 12,
   "metadata": {},
   "outputs": [
    {
     "data": {
      "text/plain": [
       "array([nan,  0.,  1.,  2.])"
      ]
     },
     "execution_count": 12,
     "metadata": {},
     "output_type": "execute_result"
    }
   ],
   "source": [
    "world_food_data.ingredients_from_palm_oil_n.unique()"
   ]
  },
  {
   "cell_type": "code",
   "execution_count": 13,
   "metadata": {},
   "outputs": [
    {
     "data": {
      "text/plain": [
       "79"
      ]
     },
     "execution_count": 13,
     "metadata": {},
     "output_type": "execute_result"
    }
   ],
   "source": [
    "len(world_food_data[world_food_data.ingredients_from_palm_oil_n==2])"
   ]
  },
  {
   "cell_type": "markdown",
   "metadata": {},
   "source": [
    "Now the dataframe seems more readabale but there are a lot of null values in each column. Just dropping each row would result in a great loss of data, so before I do that I decided to apply some filtering to the columns.<br><br> First of all, it seems that a lot of the products have an unknown type of packaging and packaging coordinates, so I'm just going to fill those values with the most common ones in the column.<br><br>\n",
    "After that, I decided to fill the additive counts with the column mean because there seems to be a lot of products with different counts. However, that is not the case with the palm oil column, so I decided to fill these null values with zeroes, since there is a very small amount of products with 2 such ingredients and they are likely to disappear when I filter the data.<br><br>\n",
    "After applying these changes, I will drop the remaining rows with NaN's to keep the data in the rest of the features more accurate."
   ]
  },
  {
   "cell_type": "code",
   "execution_count": 14,
   "metadata": {},
   "outputs": [
    {
     "name": "stderr",
     "output_type": "stream",
     "text": [
      "C:\\ProgramData\\Anaconda3\\lib\\site-packages\\pandas\\core\\indexing.py:189: SettingWithCopyWarning: \n",
      "A value is trying to be set on a copy of a slice from a DataFrame\n",
      "\n",
      "See the caveats in the documentation: http://pandas.pydata.org/pandas-docs/stable/indexing.html#indexing-view-versus-copy\n",
      "  self._setitem_with_indexer(indexer, value)\n"
     ]
    }
   ],
   "source": [
    "most_common_coords=world_food_data.first_packaging_code_geo.value_counts().index[0]\n",
    "most_common_packaging=world_food_data.packaging.value_counts().index[0]\n",
    "mean_additives=world_food_data.additives_n.mean()\n",
    "\n",
    "world_food_data.additives_n.loc[world_food_data.additives_n.isnull()]=mean_additives\n",
    "world_food_data.ingredients_from_palm_oil_n.loc[world_food_data.ingredients_from_palm_oil_n.isnull()]=0\n",
    "world_food_data.first_packaging_code_geo.loc[world_food_data.first_packaging_code_geo.isnull()]=most_common_coords\n",
    "world_food_data.packaging.loc[world_food_data.packaging.isnull()]=most_common_packaging\n",
    "\n",
    "world_food_data=world_food_data.dropna()"
   ]
  },
  {
   "cell_type": "code",
   "execution_count": 15,
   "metadata": {},
   "outputs": [
    {
     "name": "stdout",
     "output_type": "stream",
     "text": [
      "Total 71091 observations on 11 features\n"
     ]
    }
   ],
   "source": [
    "print(\"Total {} observations on {} features\".format(world_food_data.shape[0],world_food_data.shape[1]))"
   ]
  },
  {
   "cell_type": "markdown",
   "metadata": {},
   "source": [
    "We can see that we still have 71091 observations to work with, which should be enough for this research.\n"
   ]
  },
  {
   "cell_type": "code",
   "execution_count": 16,
   "metadata": {},
   "outputs": [],
   "source": [
    "assert_is_not_none(most_common_coords)\n",
    "assert_is_not_none(most_common_packaging)\n",
    "assert_is_not_none(mean_additives)\n",
    "assert_false(world_food_data.any().isnull().any())\n",
    "assert_equal(world_food_data.shape,(71091,11))"
   ]
  },
  {
   "cell_type": "markdown",
   "metadata": {},
   "source": [
    "Let's take a look at the feature data types and some of the unique column values."
   ]
  },
  {
   "cell_type": "code",
   "execution_count": 17,
   "metadata": {},
   "outputs": [
    {
     "data": {
      "text/plain": [
       "product_name                    object\n",
       "packaging                       object\n",
       "main_category                   object\n",
       "nutrition_grade_fr              object\n",
       "nutrition_score                float64\n",
       "fat_g                          float64\n",
       "carbohydrates_g                float64\n",
       "proteins_g                     float64\n",
       "additives_n                    float64\n",
       "ingredients_from_palm_oil_n    float64\n",
       "first_packaging_code_geo        object\n",
       "dtype: object"
      ]
     },
     "execution_count": 17,
     "metadata": {},
     "output_type": "execute_result"
    }
   ],
   "source": [
    "world_food_data.dtypes"
   ]
  },
  {
   "cell_type": "code",
   "execution_count": 18,
   "metadata": {},
   "outputs": [
    {
     "data": {
      "text/plain": [
       "array([  6.,   9.,   1.,  18.,   2.,  14.,  26.,  10.,  13.,  12.,  22.,\n",
       "         8.,  24.,  21.,  17.,  20.,  19.,  11.,   4.,  -2.,  -3.,  -5.,\n",
       "        -1.,  15.,  -4.,  23.,  25.,  27.,   5.,   0.,   7.,  16.,  -9.,\n",
       "         3.,  -6.,  29.,  -7., -13.,  28.,  30., -10., -11.,  -8.,  33.,\n",
       "        36.,  31., -12.,  34.,  32.,  40., -14., -15.,  35.,  37.])"
      ]
     },
     "execution_count": 18,
     "metadata": {},
     "output_type": "execute_result"
    }
   ],
   "source": [
    "world_food_data.nutrition_score.unique()"
   ]
  },
  {
   "cell_type": "code",
   "execution_count": 19,
   "metadata": {},
   "outputs": [
    {
     "data": {
      "text/plain": [
       "array([ 0.        ,  5.        ,  3.        ,  1.87685078,  4.        ,\n",
       "        2.        ,  1.        , 11.        ,  8.        , 10.        ,\n",
       "        7.        ,  9.        ,  6.        , 13.        , 12.        ,\n",
       "       14.        , 15.        , 16.        , 17.        , 18.        ,\n",
       "       21.        , 30.        , 20.        , 22.        , 19.        ,\n",
       "       26.        ])"
      ]
     },
     "execution_count": 19,
     "metadata": {},
     "output_type": "execute_result"
    }
   ],
   "source": [
    "world_food_data.additives_n.unique()"
   ]
  },
  {
   "cell_type": "code",
   "execution_count": 20,
   "metadata": {},
   "outputs": [
    {
     "data": {
      "text/plain": [
       "array([0., 1., 2.])"
      ]
     },
     "execution_count": 20,
     "metadata": {},
     "output_type": "execute_result"
    }
   ],
   "source": [
    "world_food_data.ingredients_from_palm_oil_n.unique()"
   ]
  },
  {
   "cell_type": "code",
   "execution_count": 21,
   "metadata": {},
   "outputs": [
    {
     "data": {
      "text/html": [
       "<div>\n",
       "<style scoped>\n",
       "    .dataframe tbody tr th:only-of-type {\n",
       "        vertical-align: middle;\n",
       "    }\n",
       "\n",
       "    .dataframe tbody tr th {\n",
       "        vertical-align: top;\n",
       "    }\n",
       "\n",
       "    .dataframe thead th {\n",
       "        text-align: right;\n",
       "    }\n",
       "</style>\n",
       "<table border=\"1\" class=\"dataframe\">\n",
       "  <thead>\n",
       "    <tr style=\"text-align: right;\">\n",
       "      <th></th>\n",
       "      <th>product_name</th>\n",
       "      <th>packaging</th>\n",
       "      <th>main_category</th>\n",
       "      <th>nutrition_grade_fr</th>\n",
       "      <th>nutrition_score</th>\n",
       "      <th>fat_g</th>\n",
       "      <th>carbohydrates_g</th>\n",
       "      <th>proteins_g</th>\n",
       "      <th>additives_n</th>\n",
       "      <th>ingredients_from_palm_oil_n</th>\n",
       "      <th>first_packaging_code_geo</th>\n",
       "    </tr>\n",
       "  </thead>\n",
       "  <tbody>\n",
       "    <tr>\n",
       "      <th>176</th>\n",
       "      <td>Salade Cesar</td>\n",
       "      <td>Frais</td>\n",
       "      <td>en:plant-based-foods-and-beverages</td>\n",
       "      <td>c</td>\n",
       "      <td>6.0</td>\n",
       "      <td>12.00</td>\n",
       "      <td>23.00</td>\n",
       "      <td>22.00</td>\n",
       "      <td>0.0</td>\n",
       "      <td>0.0</td>\n",
       "      <td>47.633333,-2.666667</td>\n",
       "    </tr>\n",
       "    <tr>\n",
       "      <th>182</th>\n",
       "      <td>Chaussons tressés aux pommes</td>\n",
       "      <td>Frais</td>\n",
       "      <td>en:sugary-snacks</td>\n",
       "      <td>c</td>\n",
       "      <td>9.0</td>\n",
       "      <td>10.70</td>\n",
       "      <td>38.70</td>\n",
       "      <td>3.33</td>\n",
       "      <td>5.0</td>\n",
       "      <td>0.0</td>\n",
       "      <td>47.633333,-2.666667</td>\n",
       "    </tr>\n",
       "    <tr>\n",
       "      <th>183</th>\n",
       "      <td>Pain Burger Artisan</td>\n",
       "      <td>Frais,plastique</td>\n",
       "      <td>fr:boulange</td>\n",
       "      <td>b</td>\n",
       "      <td>1.0</td>\n",
       "      <td>1.11</td>\n",
       "      <td>53.30</td>\n",
       "      <td>10.00</td>\n",
       "      <td>0.0</td>\n",
       "      <td>0.0</td>\n",
       "      <td>47.633333,-2.666667</td>\n",
       "    </tr>\n",
       "    <tr>\n",
       "      <th>185</th>\n",
       "      <td>Root Beer</td>\n",
       "      <td>Canette,Métal</td>\n",
       "      <td>en:beverages</td>\n",
       "      <td>e</td>\n",
       "      <td>18.0</td>\n",
       "      <td>0.00</td>\n",
       "      <td>14.20</td>\n",
       "      <td>0.00</td>\n",
       "      <td>3.0</td>\n",
       "      <td>0.0</td>\n",
       "      <td>47.633333,-2.666667</td>\n",
       "    </tr>\n",
       "    <tr>\n",
       "      <th>187</th>\n",
       "      <td>Quiche Lorraine</td>\n",
       "      <td>Frai</td>\n",
       "      <td>en:meals</td>\n",
       "      <td>b</td>\n",
       "      <td>2.0</td>\n",
       "      <td>6.79</td>\n",
       "      <td>7.86</td>\n",
       "      <td>5.36</td>\n",
       "      <td>3.0</td>\n",
       "      <td>0.0</td>\n",
       "      <td>47.633333,-2.666667</td>\n",
       "    </tr>\n",
       "  </tbody>\n",
       "</table>\n",
       "</div>"
      ],
      "text/plain": [
       "                     product_name        packaging  \\\n",
       "176                  Salade Cesar            Frais   \n",
       "182  Chaussons tressés aux pommes            Frais   \n",
       "183           Pain Burger Artisan  Frais,plastique   \n",
       "185                     Root Beer    Canette,Métal   \n",
       "187               Quiche Lorraine             Frai   \n",
       "\n",
       "                          main_category nutrition_grade_fr  nutrition_score  \\\n",
       "176  en:plant-based-foods-and-beverages                  c              6.0   \n",
       "182                    en:sugary-snacks                  c              9.0   \n",
       "183                         fr:boulange                  b              1.0   \n",
       "185                        en:beverages                  e             18.0   \n",
       "187                            en:meals                  b              2.0   \n",
       "\n",
       "     fat_g  carbohydrates_g  proteins_g  additives_n  \\\n",
       "176  12.00            23.00       22.00          0.0   \n",
       "182  10.70            38.70        3.33          5.0   \n",
       "183   1.11            53.30       10.00          0.0   \n",
       "185   0.00            14.20        0.00          3.0   \n",
       "187   6.79             7.86        5.36          3.0   \n",
       "\n",
       "     ingredients_from_palm_oil_n first_packaging_code_geo  \n",
       "176                          0.0      47.633333,-2.666667  \n",
       "182                          0.0      47.633333,-2.666667  \n",
       "183                          0.0      47.633333,-2.666667  \n",
       "185                          0.0      47.633333,-2.666667  \n",
       "187                          0.0      47.633333,-2.666667  "
      ]
     },
     "execution_count": 21,
     "metadata": {},
     "output_type": "execute_result"
    }
   ],
   "source": [
    "world_food_data.head()"
   ]
  },
  {
   "cell_type": "markdown",
   "metadata": {},
   "source": [
    "There are a few changes I would like to make here.<br><br>\n",
    "First of all, since I'll be extracting the french products from this dataframe, I'm going to remove the abbreviations from the `main_category` column.<br><br> Secondly, there's no need for the columns `additives_n`, `ingredients_from_palm_oil` and `nutrition_score` to be floating point, so I'm going to convert them into integers.<br><br>Then, I'd like to split the first packaging coordinates column `first_packaging_code_geo` into two separate columns - one for the latitude, and one for the longitude for easy plotting later on. I will also round these coordinates to two decimal places and drop the old column.<br><br>Finally, I'm going to reset the index column, since I dropped a lot of rows in the previous steps.<br><br> The dataframe should now have 12 features."
   ]
  },
  {
   "cell_type": "code",
   "execution_count": 22,
   "metadata": {},
   "outputs": [],
   "source": [
    "world_food_data[\"main_category\"]=world_food_data[\"main_category\"].map(lambda x: str(x)[3:])\n",
    "world_food_data[[\"additives_n\",\"ingredients_from_palm_oil_n\"]]=world_food_data[[\"additives_n\",\"ingredients_from_palm_oil_n\"]].astype(int)\n",
    "world_food_data[[\"fp_lat\",\"fp_lon\"]]=world_food_data[\"first_packaging_code_geo\"].str.split(\",\", 1, expand=True)\n",
    "world_food_data.fp_lat=round(world_food_data.fp_lat.astype(float),2)\n",
    "world_food_data.fp_lon=round(world_food_data.fp_lon.astype(float),2)\n",
    "world_food_data=world_food_data.drop(columns=\"first_packaging_code_geo\")\n",
    "\n",
    "world_food_data.nutrition_score=world_food_data.nutrition_score.astype(int)\n",
    "\n",
    "world_food_data=world_food_data.reset_index(drop=True)"
   ]
  },
  {
   "cell_type": "code",
   "execution_count": 23,
   "metadata": {},
   "outputs": [],
   "source": [
    "assert_equal(world_food_data.fp_lat.dtype,float)\n",
    "assert_equal(world_food_data.fp_lon.dtype,float)\n",
    "assert_equal(world_food_data.nutrition_score.dtype,int)\n",
    "assert_equal(world_food_data.shape[1],12)"
   ]
  },
  {
   "cell_type": "code",
   "execution_count": 24,
   "metadata": {},
   "outputs": [
    {
     "data": {
      "text/plain": [
       "product_name                    object\n",
       "packaging                       object\n",
       "main_category                   object\n",
       "nutrition_grade_fr              object\n",
       "nutrition_score                  int32\n",
       "fat_g                          float64\n",
       "carbohydrates_g                float64\n",
       "proteins_g                     float64\n",
       "additives_n                      int32\n",
       "ingredients_from_palm_oil_n      int32\n",
       "fp_lat                         float64\n",
       "fp_lon                         float64\n",
       "dtype: object"
      ]
     },
     "execution_count": 24,
     "metadata": {},
     "output_type": "execute_result"
    }
   ],
   "source": [
    "world_food_data.dtypes"
   ]
  },
  {
   "cell_type": "code",
   "execution_count": 25,
   "metadata": {},
   "outputs": [
    {
     "data": {
      "text/html": [
       "<div>\n",
       "<style scoped>\n",
       "    .dataframe tbody tr th:only-of-type {\n",
       "        vertical-align: middle;\n",
       "    }\n",
       "\n",
       "    .dataframe tbody tr th {\n",
       "        vertical-align: top;\n",
       "    }\n",
       "\n",
       "    .dataframe thead th {\n",
       "        text-align: right;\n",
       "    }\n",
       "</style>\n",
       "<table border=\"1\" class=\"dataframe\">\n",
       "  <thead>\n",
       "    <tr style=\"text-align: right;\">\n",
       "      <th></th>\n",
       "      <th>product_name</th>\n",
       "      <th>packaging</th>\n",
       "      <th>main_category</th>\n",
       "      <th>nutrition_grade_fr</th>\n",
       "      <th>nutrition_score</th>\n",
       "      <th>fat_g</th>\n",
       "      <th>carbohydrates_g</th>\n",
       "      <th>proteins_g</th>\n",
       "      <th>additives_n</th>\n",
       "      <th>ingredients_from_palm_oil_n</th>\n",
       "      <th>fp_lat</th>\n",
       "      <th>fp_lon</th>\n",
       "    </tr>\n",
       "  </thead>\n",
       "  <tbody>\n",
       "    <tr>\n",
       "      <th>0</th>\n",
       "      <td>Salade Cesar</td>\n",
       "      <td>Frais</td>\n",
       "      <td>plant-based-foods-and-beverages</td>\n",
       "      <td>c</td>\n",
       "      <td>6</td>\n",
       "      <td>12.00</td>\n",
       "      <td>23.00</td>\n",
       "      <td>22.00</td>\n",
       "      <td>0</td>\n",
       "      <td>0</td>\n",
       "      <td>47.63</td>\n",
       "      <td>-2.67</td>\n",
       "    </tr>\n",
       "    <tr>\n",
       "      <th>1</th>\n",
       "      <td>Chaussons tressés aux pommes</td>\n",
       "      <td>Frais</td>\n",
       "      <td>sugary-snacks</td>\n",
       "      <td>c</td>\n",
       "      <td>9</td>\n",
       "      <td>10.70</td>\n",
       "      <td>38.70</td>\n",
       "      <td>3.33</td>\n",
       "      <td>5</td>\n",
       "      <td>0</td>\n",
       "      <td>47.63</td>\n",
       "      <td>-2.67</td>\n",
       "    </tr>\n",
       "    <tr>\n",
       "      <th>2</th>\n",
       "      <td>Pain Burger Artisan</td>\n",
       "      <td>Frais,plastique</td>\n",
       "      <td>boulange</td>\n",
       "      <td>b</td>\n",
       "      <td>1</td>\n",
       "      <td>1.11</td>\n",
       "      <td>53.30</td>\n",
       "      <td>10.00</td>\n",
       "      <td>0</td>\n",
       "      <td>0</td>\n",
       "      <td>47.63</td>\n",
       "      <td>-2.67</td>\n",
       "    </tr>\n",
       "    <tr>\n",
       "      <th>3</th>\n",
       "      <td>Root Beer</td>\n",
       "      <td>Canette,Métal</td>\n",
       "      <td>beverages</td>\n",
       "      <td>e</td>\n",
       "      <td>18</td>\n",
       "      <td>0.00</td>\n",
       "      <td>14.20</td>\n",
       "      <td>0.00</td>\n",
       "      <td>3</td>\n",
       "      <td>0</td>\n",
       "      <td>47.63</td>\n",
       "      <td>-2.67</td>\n",
       "    </tr>\n",
       "    <tr>\n",
       "      <th>4</th>\n",
       "      <td>Quiche Lorraine</td>\n",
       "      <td>Frai</td>\n",
       "      <td>meals</td>\n",
       "      <td>b</td>\n",
       "      <td>2</td>\n",
       "      <td>6.79</td>\n",
       "      <td>7.86</td>\n",
       "      <td>5.36</td>\n",
       "      <td>3</td>\n",
       "      <td>0</td>\n",
       "      <td>47.63</td>\n",
       "      <td>-2.67</td>\n",
       "    </tr>\n",
       "  </tbody>\n",
       "</table>\n",
       "</div>"
      ],
      "text/plain": [
       "                   product_name        packaging  \\\n",
       "0                  Salade Cesar            Frais   \n",
       "1  Chaussons tressés aux pommes            Frais   \n",
       "2           Pain Burger Artisan  Frais,plastique   \n",
       "3                     Root Beer    Canette,Métal   \n",
       "4               Quiche Lorraine             Frai   \n",
       "\n",
       "                     main_category nutrition_grade_fr  nutrition_score  fat_g  \\\n",
       "0  plant-based-foods-and-beverages                  c                6  12.00   \n",
       "1                    sugary-snacks                  c                9  10.70   \n",
       "2                         boulange                  b                1   1.11   \n",
       "3                        beverages                  e               18   0.00   \n",
       "4                            meals                  b                2   6.79   \n",
       "\n",
       "   carbohydrates_g  proteins_g  additives_n  ingredients_from_palm_oil_n  \\\n",
       "0            23.00       22.00            0                            0   \n",
       "1            38.70        3.33            5                            0   \n",
       "2            53.30       10.00            0                            0   \n",
       "3            14.20        0.00            3                            0   \n",
       "4             7.86        5.36            3                            0   \n",
       "\n",
       "   fp_lat  fp_lon  \n",
       "0   47.63   -2.67  \n",
       "1   47.63   -2.67  \n",
       "2   47.63   -2.67  \n",
       "3   47.63   -2.67  \n",
       "4   47.63   -2.67  "
      ]
     },
     "execution_count": 25,
     "metadata": {},
     "output_type": "execute_result"
    }
   ],
   "source": [
    "world_food_data.head()"
   ]
  },
  {
   "cell_type": "markdown",
   "metadata": {},
   "source": [
    "The dataframe seems much cleaner now and the data types are correct. Now there's just a few more things I would like to add.<br><br>I'm going to add a column called `contains_additives`, which will be:\n",
    " - 1 - if the additive count is > 0\n",
    " - 0 - if the additive count is = 0\n",
    "\n",
    "This will be used later on for modelling. I also noticed that the `packaging` column contains string values starting with both uppercase and lowercase. So I'm going to convert all of the words into lowercase for correct filtering later on in the exploration."
   ]
  },
  {
   "cell_type": "code",
   "execution_count": 26,
   "metadata": {},
   "outputs": [],
   "source": [
    "world_food_data[\"contains_additives\"]=pd.Series(np.where(world_food_data.additives_n>0,1,0)).astype(int)\n",
    "world_food_data.packaging=world_food_data.packaging.str.lower()"
   ]
  },
  {
   "cell_type": "code",
   "execution_count": 27,
   "metadata": {},
   "outputs": [],
   "source": [
    "assert_less(world_food_data.contains_additives.any(),2)\n",
    "assert_greater_equal(world_food_data.contains_additives.any(),0)\n",
    "assert_equal(world_food_data.shape[1],13)"
   ]
  },
  {
   "cell_type": "markdown",
   "metadata": {},
   "source": [
    "The features should now be 13 and the `contains_additives` column should have values between 0 and 1."
   ]
  },
  {
   "cell_type": "code",
   "execution_count": 28,
   "metadata": {},
   "outputs": [
    {
     "data": {
      "text/html": [
       "<div>\n",
       "<style scoped>\n",
       "    .dataframe tbody tr th:only-of-type {\n",
       "        vertical-align: middle;\n",
       "    }\n",
       "\n",
       "    .dataframe tbody tr th {\n",
       "        vertical-align: top;\n",
       "    }\n",
       "\n",
       "    .dataframe thead th {\n",
       "        text-align: right;\n",
       "    }\n",
       "</style>\n",
       "<table border=\"1\" class=\"dataframe\">\n",
       "  <thead>\n",
       "    <tr style=\"text-align: right;\">\n",
       "      <th></th>\n",
       "      <th>product_name</th>\n",
       "      <th>packaging</th>\n",
       "      <th>main_category</th>\n",
       "      <th>nutrition_grade_fr</th>\n",
       "      <th>nutrition_score</th>\n",
       "      <th>fat_g</th>\n",
       "      <th>carbohydrates_g</th>\n",
       "      <th>proteins_g</th>\n",
       "      <th>additives_n</th>\n",
       "      <th>ingredients_from_palm_oil_n</th>\n",
       "      <th>fp_lat</th>\n",
       "      <th>fp_lon</th>\n",
       "      <th>contains_additives</th>\n",
       "    </tr>\n",
       "  </thead>\n",
       "  <tbody>\n",
       "    <tr>\n",
       "      <th>0</th>\n",
       "      <td>Salade Cesar</td>\n",
       "      <td>frais</td>\n",
       "      <td>plant-based-foods-and-beverages</td>\n",
       "      <td>c</td>\n",
       "      <td>6</td>\n",
       "      <td>12.00</td>\n",
       "      <td>23.00</td>\n",
       "      <td>22.00</td>\n",
       "      <td>0</td>\n",
       "      <td>0</td>\n",
       "      <td>47.63</td>\n",
       "      <td>-2.67</td>\n",
       "      <td>0</td>\n",
       "    </tr>\n",
       "    <tr>\n",
       "      <th>1</th>\n",
       "      <td>Chaussons tressés aux pommes</td>\n",
       "      <td>frais</td>\n",
       "      <td>sugary-snacks</td>\n",
       "      <td>c</td>\n",
       "      <td>9</td>\n",
       "      <td>10.70</td>\n",
       "      <td>38.70</td>\n",
       "      <td>3.33</td>\n",
       "      <td>5</td>\n",
       "      <td>0</td>\n",
       "      <td>47.63</td>\n",
       "      <td>-2.67</td>\n",
       "      <td>1</td>\n",
       "    </tr>\n",
       "    <tr>\n",
       "      <th>2</th>\n",
       "      <td>Pain Burger Artisan</td>\n",
       "      <td>frais,plastique</td>\n",
       "      <td>boulange</td>\n",
       "      <td>b</td>\n",
       "      <td>1</td>\n",
       "      <td>1.11</td>\n",
       "      <td>53.30</td>\n",
       "      <td>10.00</td>\n",
       "      <td>0</td>\n",
       "      <td>0</td>\n",
       "      <td>47.63</td>\n",
       "      <td>-2.67</td>\n",
       "      <td>0</td>\n",
       "    </tr>\n",
       "    <tr>\n",
       "      <th>3</th>\n",
       "      <td>Root Beer</td>\n",
       "      <td>canette,métal</td>\n",
       "      <td>beverages</td>\n",
       "      <td>e</td>\n",
       "      <td>18</td>\n",
       "      <td>0.00</td>\n",
       "      <td>14.20</td>\n",
       "      <td>0.00</td>\n",
       "      <td>3</td>\n",
       "      <td>0</td>\n",
       "      <td>47.63</td>\n",
       "      <td>-2.67</td>\n",
       "      <td>1</td>\n",
       "    </tr>\n",
       "    <tr>\n",
       "      <th>4</th>\n",
       "      <td>Quiche Lorraine</td>\n",
       "      <td>frai</td>\n",
       "      <td>meals</td>\n",
       "      <td>b</td>\n",
       "      <td>2</td>\n",
       "      <td>6.79</td>\n",
       "      <td>7.86</td>\n",
       "      <td>5.36</td>\n",
       "      <td>3</td>\n",
       "      <td>0</td>\n",
       "      <td>47.63</td>\n",
       "      <td>-2.67</td>\n",
       "      <td>1</td>\n",
       "    </tr>\n",
       "  </tbody>\n",
       "</table>\n",
       "</div>"
      ],
      "text/plain": [
       "                   product_name        packaging  \\\n",
       "0                  Salade Cesar            frais   \n",
       "1  Chaussons tressés aux pommes            frais   \n",
       "2           Pain Burger Artisan  frais,plastique   \n",
       "3                     Root Beer    canette,métal   \n",
       "4               Quiche Lorraine             frai   \n",
       "\n",
       "                     main_category nutrition_grade_fr  nutrition_score  fat_g  \\\n",
       "0  plant-based-foods-and-beverages                  c                6  12.00   \n",
       "1                    sugary-snacks                  c                9  10.70   \n",
       "2                         boulange                  b                1   1.11   \n",
       "3                        beverages                  e               18   0.00   \n",
       "4                            meals                  b                2   6.79   \n",
       "\n",
       "   carbohydrates_g  proteins_g  additives_n  ingredients_from_palm_oil_n  \\\n",
       "0            23.00       22.00            0                            0   \n",
       "1            38.70        3.33            5                            0   \n",
       "2            53.30       10.00            0                            0   \n",
       "3            14.20        0.00            3                            0   \n",
       "4             7.86        5.36            3                            0   \n",
       "\n",
       "   fp_lat  fp_lon  contains_additives  \n",
       "0   47.63   -2.67                   0  \n",
       "1   47.63   -2.67                   1  \n",
       "2   47.63   -2.67                   0  \n",
       "3   47.63   -2.67                   1  \n",
       "4   47.63   -2.67                   1  "
      ]
     },
     "execution_count": 28,
     "metadata": {},
     "output_type": "execute_result"
    }
   ],
   "source": [
    "world_food_data.head()"
   ]
  },
  {
   "cell_type": "markdown",
   "metadata": {},
   "source": [
    "Let's take a look at the `ingredients_from_palm_oil_n` column. It seems that there are still 59 products, which contain 2 ingredients from palm oil. For simplicity, I'm just going to change these values with 1's, which will indicate that the french product either contains or doesn't contain such ingredients."
   ]
  },
  {
   "cell_type": "code",
   "execution_count": 29,
   "metadata": {},
   "outputs": [
    {
     "data": {
      "text/plain": [
       "array([0, 1, 2], dtype=int64)"
      ]
     },
     "execution_count": 29,
     "metadata": {},
     "output_type": "execute_result"
    }
   ],
   "source": [
    "world_food_data[\"ingredients_from_palm_oil_n\"].unique()"
   ]
  },
  {
   "cell_type": "code",
   "execution_count": 30,
   "metadata": {},
   "outputs": [
    {
     "data": {
      "text/plain": [
       "59"
      ]
     },
     "execution_count": 30,
     "metadata": {},
     "output_type": "execute_result"
    }
   ],
   "source": [
    "len(world_food_data[world_food_data.ingredients_from_palm_oil_n==2])"
   ]
  },
  {
   "cell_type": "code",
   "execution_count": 31,
   "metadata": {},
   "outputs": [
    {
     "name": "stderr",
     "output_type": "stream",
     "text": [
      "C:\\ProgramData\\Anaconda3\\lib\\site-packages\\pandas\\core\\indexing.py:189: SettingWithCopyWarning: \n",
      "A value is trying to be set on a copy of a slice from a DataFrame\n",
      "\n",
      "See the caveats in the documentation: http://pandas.pydata.org/pandas-docs/stable/indexing.html#indexing-view-versus-copy\n",
      "  self._setitem_with_indexer(indexer, value)\n"
     ]
    }
   ],
   "source": [
    "world_food_data[\"ingredients_from_palm_oil_n\"].loc[world_food_data[\"ingredients_from_palm_oil_n\"]==2]=1"
   ]
  },
  {
   "cell_type": "code",
   "execution_count": 32,
   "metadata": {},
   "outputs": [],
   "source": [
    "assert_greater_equal(world_food_data.ingredients_from_palm_oil_n.any(),0)\n",
    "assert_less_equal(world_food_data.ingredients_from_palm_oil_n.any(),1)"
   ]
  },
  {
   "cell_type": "markdown",
   "metadata": {},
   "source": [
    "This concludes the cleaning of the Open Food Facts dataset and now I'm going to move on to the fast food datasets."
   ]
  },
  {
   "cell_type": "markdown",
   "metadata": {},
   "source": [
    "## Step 2 - The Starbucks dataset"
   ]
  },
  {
   "cell_type": "markdown",
   "metadata": {},
   "source": [
    "### Obtaining the dataset"
   ]
  },
  {
   "cell_type": "markdown",
   "metadata": {},
   "source": [
    "The other two datasets are smaller and much easier to clean and obtain.<br><br>\n",
    "First I will load the Starbucks dataset from the `.csv` file and check if it was loaded correctly. Then I will print the first few rows, similarly to what I did to the previous one."
   ]
  },
  {
   "cell_type": "code",
   "execution_count": 33,
   "metadata": {},
   "outputs": [],
   "source": [
    "starbucks_data=pd.read_csv(\"data/starbucks_drinkMenu_expanded.csv\")"
   ]
  },
  {
   "cell_type": "code",
   "execution_count": 34,
   "metadata": {},
   "outputs": [],
   "source": [
    "assert_is_not_none(starbucks_data)"
   ]
  },
  {
   "cell_type": "code",
   "execution_count": 35,
   "metadata": {},
   "outputs": [
    {
     "data": {
      "text/html": [
       "<div>\n",
       "<style scoped>\n",
       "    .dataframe tbody tr th:only-of-type {\n",
       "        vertical-align: middle;\n",
       "    }\n",
       "\n",
       "    .dataframe tbody tr th {\n",
       "        vertical-align: top;\n",
       "    }\n",
       "\n",
       "    .dataframe thead th {\n",
       "        text-align: right;\n",
       "    }\n",
       "</style>\n",
       "<table border=\"1\" class=\"dataframe\">\n",
       "  <thead>\n",
       "    <tr style=\"text-align: right;\">\n",
       "      <th></th>\n",
       "      <th>Beverage_category</th>\n",
       "      <th>Beverage</th>\n",
       "      <th>Beverage_prep</th>\n",
       "      <th>Calories</th>\n",
       "      <th>Total Fat (g)</th>\n",
       "      <th>Trans Fat (g)</th>\n",
       "      <th>Saturated Fat (g)</th>\n",
       "      <th>Sodium (mg)</th>\n",
       "      <th>Total Carbohydrates (g)</th>\n",
       "      <th>Cholesterol (mg)</th>\n",
       "      <th>Dietary Fibre (g)</th>\n",
       "      <th>Sugars (g)</th>\n",
       "      <th>Protein (g)</th>\n",
       "      <th>Vitamin A (% DV)</th>\n",
       "      <th>Vitamin C (% DV)</th>\n",
       "      <th>Calcium (% DV)</th>\n",
       "      <th>Iron (% DV)</th>\n",
       "      <th>Caffeine (mg)</th>\n",
       "    </tr>\n",
       "  </thead>\n",
       "  <tbody>\n",
       "    <tr>\n",
       "      <th>0</th>\n",
       "      <td>Coffee</td>\n",
       "      <td>Brewed Coffee</td>\n",
       "      <td>Short</td>\n",
       "      <td>3</td>\n",
       "      <td>0.1</td>\n",
       "      <td>0.0</td>\n",
       "      <td>0.0</td>\n",
       "      <td>0</td>\n",
       "      <td>5</td>\n",
       "      <td>0</td>\n",
       "      <td>0</td>\n",
       "      <td>0</td>\n",
       "      <td>0.3</td>\n",
       "      <td>0%</td>\n",
       "      <td>0%</td>\n",
       "      <td>0%</td>\n",
       "      <td>0%</td>\n",
       "      <td>175</td>\n",
       "    </tr>\n",
       "    <tr>\n",
       "      <th>1</th>\n",
       "      <td>Coffee</td>\n",
       "      <td>Brewed Coffee</td>\n",
       "      <td>Tall</td>\n",
       "      <td>4</td>\n",
       "      <td>0.1</td>\n",
       "      <td>0.0</td>\n",
       "      <td>0.0</td>\n",
       "      <td>0</td>\n",
       "      <td>10</td>\n",
       "      <td>0</td>\n",
       "      <td>0</td>\n",
       "      <td>0</td>\n",
       "      <td>0.5</td>\n",
       "      <td>0%</td>\n",
       "      <td>0%</td>\n",
       "      <td>0%</td>\n",
       "      <td>0%</td>\n",
       "      <td>260</td>\n",
       "    </tr>\n",
       "    <tr>\n",
       "      <th>2</th>\n",
       "      <td>Coffee</td>\n",
       "      <td>Brewed Coffee</td>\n",
       "      <td>Grande</td>\n",
       "      <td>5</td>\n",
       "      <td>0.1</td>\n",
       "      <td>0.0</td>\n",
       "      <td>0.0</td>\n",
       "      <td>0</td>\n",
       "      <td>10</td>\n",
       "      <td>0</td>\n",
       "      <td>0</td>\n",
       "      <td>0</td>\n",
       "      <td>1.0</td>\n",
       "      <td>0%</td>\n",
       "      <td>0%</td>\n",
       "      <td>0%</td>\n",
       "      <td>0%</td>\n",
       "      <td>330</td>\n",
       "    </tr>\n",
       "    <tr>\n",
       "      <th>3</th>\n",
       "      <td>Coffee</td>\n",
       "      <td>Brewed Coffee</td>\n",
       "      <td>Venti</td>\n",
       "      <td>5</td>\n",
       "      <td>0.1</td>\n",
       "      <td>0.0</td>\n",
       "      <td>0.0</td>\n",
       "      <td>0</td>\n",
       "      <td>10</td>\n",
       "      <td>0</td>\n",
       "      <td>0</td>\n",
       "      <td>0</td>\n",
       "      <td>1.0</td>\n",
       "      <td>0%</td>\n",
       "      <td>0%</td>\n",
       "      <td>2%</td>\n",
       "      <td>0%</td>\n",
       "      <td>410</td>\n",
       "    </tr>\n",
       "    <tr>\n",
       "      <th>4</th>\n",
       "      <td>Classic Espresso Drinks</td>\n",
       "      <td>Caffè Latte</td>\n",
       "      <td>Short Nonfat Milk</td>\n",
       "      <td>70</td>\n",
       "      <td>0.1</td>\n",
       "      <td>0.1</td>\n",
       "      <td>0.0</td>\n",
       "      <td>5</td>\n",
       "      <td>75</td>\n",
       "      <td>10</td>\n",
       "      <td>0</td>\n",
       "      <td>9</td>\n",
       "      <td>6.0</td>\n",
       "      <td>10%</td>\n",
       "      <td>0%</td>\n",
       "      <td>20%</td>\n",
       "      <td>0%</td>\n",
       "      <td>75</td>\n",
       "    </tr>\n",
       "  </tbody>\n",
       "</table>\n",
       "</div>"
      ],
      "text/plain": [
       "         Beverage_category       Beverage      Beverage_prep  Calories  \\\n",
       "0                   Coffee  Brewed Coffee              Short         3   \n",
       "1                   Coffee  Brewed Coffee               Tall         4   \n",
       "2                   Coffee  Brewed Coffee             Grande         5   \n",
       "3                   Coffee  Brewed Coffee              Venti         5   \n",
       "4  Classic Espresso Drinks    Caffè Latte  Short Nonfat Milk        70   \n",
       "\n",
       "   Total Fat (g)  Trans Fat (g)   Saturated Fat (g)   Sodium (mg)  \\\n",
       "0            0.1             0.0                0.0             0   \n",
       "1            0.1             0.0                0.0             0   \n",
       "2            0.1             0.0                0.0             0   \n",
       "3            0.1             0.0                0.0             0   \n",
       "4            0.1             0.1                0.0             5   \n",
       "\n",
       "    Total Carbohydrates (g)   Cholesterol (mg)   Dietary Fibre (g)  \\\n",
       "0                          5                 0                   0   \n",
       "1                         10                 0                   0   \n",
       "2                         10                 0                   0   \n",
       "3                         10                 0                   0   \n",
       "4                         75                10                   0   \n",
       "\n",
       "    Sugars (g)   Protein (g)  Vitamin A (% DV)  Vitamin C (% DV)  \\\n",
       "0            0            0.3                0%               0%   \n",
       "1            0            0.5                0%               0%   \n",
       "2            0            1.0                0%               0%   \n",
       "3            0            1.0                0%               0%   \n",
       "4            9            6.0               10%               0%   \n",
       "\n",
       "   Calcium (% DV)  Iron (% DV)  Caffeine (mg)  \n",
       "0               0%           0%           175  \n",
       "1               0%           0%           260  \n",
       "2               0%           0%           330  \n",
       "3               2%           0%           410  \n",
       "4              20%           0%            75  "
      ]
     },
     "execution_count": 35,
     "metadata": {},
     "output_type": "execute_result"
    }
   ],
   "source": [
    "starbucks_data.head()"
   ]
  },
  {
   "cell_type": "markdown",
   "metadata": {},
   "source": [
    "### Cleaning the dataset"
   ]
  },
  {
   "cell_type": "markdown",
   "metadata": {},
   "source": [
    "The first change I'd like to make would be to rename the columns so that I can access them more easily.<br><br>\n",
    "First, I'll filter out the brackets in the column names and convert these names to lowercase. After that, I'll save the ones, which I'll be using later on in the list `cols_to_keep`.<br><br>I'll also rename the nutrient columns and the `beverage` column to match the features in the `world_food_data` dataset for simplicity."
   ]
  },
  {
   "cell_type": "code",
   "execution_count": 36,
   "metadata": {},
   "outputs": [],
   "source": [
    "starbucks_data.columns=starbucks_data.columns.str.replace(\")\",\"\")\n",
    "starbucks_data.columns=starbucks_data.columns.str.replace(\" \",\"\")\n",
    "starbucks_data.columns=starbucks_data.columns.str.replace(\"(\",\"_\")\n",
    "starbucks_data.columns=starbucks_data.columns.str.lower()\n",
    "cols_to_keep=[\"beverage_category\", \"beverage\",\"beverage_prep\",\"calories\",\"totalfat_g\",\"totalcarbohydrates_g\",\n",
    "               \"protein_g\"]\n",
    "starbucks_data=starbucks_data[cols_to_keep]\n",
    "starbucks_data=starbucks_data.rename(columns={\"totalfat_g\":\"fat_g\",\n",
    "                                                \"totalcarbohydrates_g\":\"carbohydrates_g\",\n",
    "                                              \"protein_g\":\"proteins_g\",\n",
    "                                              \"beverage\":\"product_name\"\n",
    "                                               })"
   ]
  },
  {
   "cell_type": "code",
   "execution_count": 37,
   "metadata": {},
   "outputs": [
    {
     "data": {
      "text/plain": [
       "(242, 7)"
      ]
     },
     "execution_count": 37,
     "metadata": {},
     "output_type": "execute_result"
    }
   ],
   "source": [
    "starbucks_data.shape"
   ]
  },
  {
   "cell_type": "markdown",
   "metadata": {},
   "source": [
    "The resulting dataset should have 242 observations and 7 features."
   ]
  },
  {
   "cell_type": "code",
   "execution_count": 38,
   "metadata": {},
   "outputs": [],
   "source": [
    "assert_equal(starbucks_data.shape,(242,7))"
   ]
  },
  {
   "cell_type": "code",
   "execution_count": 39,
   "metadata": {},
   "outputs": [
    {
     "data": {
      "text/html": [
       "<div>\n",
       "<style scoped>\n",
       "    .dataframe tbody tr th:only-of-type {\n",
       "        vertical-align: middle;\n",
       "    }\n",
       "\n",
       "    .dataframe tbody tr th {\n",
       "        vertical-align: top;\n",
       "    }\n",
       "\n",
       "    .dataframe thead th {\n",
       "        text-align: right;\n",
       "    }\n",
       "</style>\n",
       "<table border=\"1\" class=\"dataframe\">\n",
       "  <thead>\n",
       "    <tr style=\"text-align: right;\">\n",
       "      <th></th>\n",
       "      <th>beverage_category</th>\n",
       "      <th>product_name</th>\n",
       "      <th>beverage_prep</th>\n",
       "      <th>calories</th>\n",
       "      <th>fat_g</th>\n",
       "      <th>carbohydrates_g</th>\n",
       "      <th>proteins_g</th>\n",
       "    </tr>\n",
       "  </thead>\n",
       "  <tbody>\n",
       "    <tr>\n",
       "      <th>0</th>\n",
       "      <td>Coffee</td>\n",
       "      <td>Brewed Coffee</td>\n",
       "      <td>Short</td>\n",
       "      <td>3</td>\n",
       "      <td>0.1</td>\n",
       "      <td>5</td>\n",
       "      <td>0.3</td>\n",
       "    </tr>\n",
       "    <tr>\n",
       "      <th>1</th>\n",
       "      <td>Coffee</td>\n",
       "      <td>Brewed Coffee</td>\n",
       "      <td>Tall</td>\n",
       "      <td>4</td>\n",
       "      <td>0.1</td>\n",
       "      <td>10</td>\n",
       "      <td>0.5</td>\n",
       "    </tr>\n",
       "    <tr>\n",
       "      <th>2</th>\n",
       "      <td>Coffee</td>\n",
       "      <td>Brewed Coffee</td>\n",
       "      <td>Grande</td>\n",
       "      <td>5</td>\n",
       "      <td>0.1</td>\n",
       "      <td>10</td>\n",
       "      <td>1.0</td>\n",
       "    </tr>\n",
       "    <tr>\n",
       "      <th>3</th>\n",
       "      <td>Coffee</td>\n",
       "      <td>Brewed Coffee</td>\n",
       "      <td>Venti</td>\n",
       "      <td>5</td>\n",
       "      <td>0.1</td>\n",
       "      <td>10</td>\n",
       "      <td>1.0</td>\n",
       "    </tr>\n",
       "    <tr>\n",
       "      <th>4</th>\n",
       "      <td>Classic Espresso Drinks</td>\n",
       "      <td>Caffè Latte</td>\n",
       "      <td>Short Nonfat Milk</td>\n",
       "      <td>70</td>\n",
       "      <td>0.1</td>\n",
       "      <td>75</td>\n",
       "      <td>6.0</td>\n",
       "    </tr>\n",
       "  </tbody>\n",
       "</table>\n",
       "</div>"
      ],
      "text/plain": [
       "         beverage_category   product_name      beverage_prep  calories fat_g  \\\n",
       "0                   Coffee  Brewed Coffee              Short         3   0.1   \n",
       "1                   Coffee  Brewed Coffee               Tall         4   0.1   \n",
       "2                   Coffee  Brewed Coffee             Grande         5   0.1   \n",
       "3                   Coffee  Brewed Coffee              Venti         5   0.1   \n",
       "4  Classic Espresso Drinks    Caffè Latte  Short Nonfat Milk        70   0.1   \n",
       "\n",
       "   carbohydrates_g  proteins_g  \n",
       "0                5         0.3  \n",
       "1               10         0.5  \n",
       "2               10         1.0  \n",
       "3               10         1.0  \n",
       "4               75         6.0  "
      ]
     },
     "execution_count": 39,
     "metadata": {},
     "output_type": "execute_result"
    }
   ],
   "source": [
    "starbucks_data.head()"
   ]
  },
  {
   "cell_type": "markdown",
   "metadata": {},
   "source": [
    "Let's take a look at the data types."
   ]
  },
  {
   "cell_type": "code",
   "execution_count": 40,
   "metadata": {},
   "outputs": [
    {
     "data": {
      "text/plain": [
       "beverage_category     object\n",
       "product_name          object\n",
       "beverage_prep         object\n",
       "calories               int64\n",
       "fat_g                 object\n",
       "carbohydrates_g        int64\n",
       "proteins_g           float64\n",
       "dtype: object"
      ]
     },
     "execution_count": 40,
     "metadata": {},
     "output_type": "execute_result"
    }
   ],
   "source": [
    "starbucks_data.dtypes"
   ]
  },
  {
   "cell_type": "markdown",
   "metadata": {},
   "source": [
    "It seems that the carbohydrates were rounded to integers here, but I'm going to convert them to float, so that they match the carbohydrates column data types in `world_food_data`."
   ]
  },
  {
   "cell_type": "code",
   "execution_count": 41,
   "metadata": {},
   "outputs": [],
   "source": [
    "starbucks_data.carbohydrates_g=starbucks_data.carbohydrates_g.astype(float)"
   ]
  },
  {
   "cell_type": "code",
   "execution_count": 42,
   "metadata": {},
   "outputs": [],
   "source": [
    "assert_equal(starbucks_data.carbohydrates_g.dtype,float)"
   ]
  },
  {
   "cell_type": "markdown",
   "metadata": {},
   "source": [
    "The `fat_g` column is also of type `object`, which is pretty odd. Let's take a look at why that is."
   ]
  },
  {
   "cell_type": "code",
   "execution_count": 43,
   "metadata": {},
   "outputs": [
    {
     "data": {
      "text/plain": [
       "array(['0.1', '3.5', '2.5', '0.2', '6', '4.5', '0.3', '7', '5', '0.4',\n",
       "       '9', '1.5', '4', '2', '8', '3', '11', '0', '1', '10', '15', '13',\n",
       "       '0.5', '3 2'], dtype=object)"
      ]
     },
     "execution_count": 43,
     "metadata": {},
     "output_type": "execute_result"
    }
   ],
   "source": [
    "starbucks_data.fat_g.unique()"
   ]
  },
  {
   "cell_type": "markdown",
   "metadata": {},
   "source": [
    "It seems that there is just a mistake in the data. As I'm not really sure what the value `3 2` is supposed to be, I'm just going to replace it with NaN's and convert the data type to float."
   ]
  },
  {
   "cell_type": "code",
   "execution_count": 44,
   "metadata": {},
   "outputs": [],
   "source": [
    "starbucks_data_mistake=starbucks_data.fat_g.loc[starbucks_data.fat_g==\"3 2\"]\n",
    "starbucks_data.fat_g=starbucks_data.fat_g.replace(starbucks_data_mistake,np.nan)\n",
    "starbucks_data.fat_g=starbucks_data.fat_g.astype(float)"
   ]
  },
  {
   "cell_type": "code",
   "execution_count": 45,
   "metadata": {},
   "outputs": [],
   "source": [
    "assert_equal(starbucks_data.fat_g.dtype,float)"
   ]
  },
  {
   "cell_type": "code",
   "execution_count": 46,
   "metadata": {},
   "outputs": [
    {
     "data": {
      "text/plain": [
       "beverage_category     object\n",
       "product_name          object\n",
       "beverage_prep         object\n",
       "calories               int64\n",
       "fat_g                float64\n",
       "carbohydrates_g      float64\n",
       "proteins_g           float64\n",
       "dtype: object"
      ]
     },
     "execution_count": 46,
     "metadata": {},
     "output_type": "execute_result"
    }
   ],
   "source": [
    "starbucks_data.dtypes"
   ]
  },
  {
   "cell_type": "code",
   "execution_count": 47,
   "metadata": {},
   "outputs": [
    {
     "data": {
      "text/html": [
       "<div>\n",
       "<style scoped>\n",
       "    .dataframe tbody tr th:only-of-type {\n",
       "        vertical-align: middle;\n",
       "    }\n",
       "\n",
       "    .dataframe tbody tr th {\n",
       "        vertical-align: top;\n",
       "    }\n",
       "\n",
       "    .dataframe thead th {\n",
       "        text-align: right;\n",
       "    }\n",
       "</style>\n",
       "<table border=\"1\" class=\"dataframe\">\n",
       "  <thead>\n",
       "    <tr style=\"text-align: right;\">\n",
       "      <th></th>\n",
       "      <th>beverage_category</th>\n",
       "      <th>product_name</th>\n",
       "      <th>beverage_prep</th>\n",
       "      <th>calories</th>\n",
       "      <th>fat_g</th>\n",
       "      <th>carbohydrates_g</th>\n",
       "      <th>proteins_g</th>\n",
       "    </tr>\n",
       "  </thead>\n",
       "  <tbody>\n",
       "    <tr>\n",
       "      <th>0</th>\n",
       "      <td>Coffee</td>\n",
       "      <td>Brewed Coffee</td>\n",
       "      <td>Short</td>\n",
       "      <td>3</td>\n",
       "      <td>0.1</td>\n",
       "      <td>5.0</td>\n",
       "      <td>0.3</td>\n",
       "    </tr>\n",
       "    <tr>\n",
       "      <th>1</th>\n",
       "      <td>Coffee</td>\n",
       "      <td>Brewed Coffee</td>\n",
       "      <td>Tall</td>\n",
       "      <td>4</td>\n",
       "      <td>0.1</td>\n",
       "      <td>10.0</td>\n",
       "      <td>0.5</td>\n",
       "    </tr>\n",
       "    <tr>\n",
       "      <th>2</th>\n",
       "      <td>Coffee</td>\n",
       "      <td>Brewed Coffee</td>\n",
       "      <td>Grande</td>\n",
       "      <td>5</td>\n",
       "      <td>0.1</td>\n",
       "      <td>10.0</td>\n",
       "      <td>1.0</td>\n",
       "    </tr>\n",
       "    <tr>\n",
       "      <th>3</th>\n",
       "      <td>Coffee</td>\n",
       "      <td>Brewed Coffee</td>\n",
       "      <td>Venti</td>\n",
       "      <td>5</td>\n",
       "      <td>0.1</td>\n",
       "      <td>10.0</td>\n",
       "      <td>1.0</td>\n",
       "    </tr>\n",
       "    <tr>\n",
       "      <th>4</th>\n",
       "      <td>Classic Espresso Drinks</td>\n",
       "      <td>Caffè Latte</td>\n",
       "      <td>Short Nonfat Milk</td>\n",
       "      <td>70</td>\n",
       "      <td>0.1</td>\n",
       "      <td>75.0</td>\n",
       "      <td>6.0</td>\n",
       "    </tr>\n",
       "  </tbody>\n",
       "</table>\n",
       "</div>"
      ],
      "text/plain": [
       "         beverage_category   product_name      beverage_prep  calories  fat_g  \\\n",
       "0                   Coffee  Brewed Coffee              Short         3    0.1   \n",
       "1                   Coffee  Brewed Coffee               Tall         4    0.1   \n",
       "2                   Coffee  Brewed Coffee             Grande         5    0.1   \n",
       "3                   Coffee  Brewed Coffee              Venti         5    0.1   \n",
       "4  Classic Espresso Drinks    Caffè Latte  Short Nonfat Milk        70    0.1   \n",
       "\n",
       "   carbohydrates_g  proteins_g  \n",
       "0              5.0         0.3  \n",
       "1             10.0         0.5  \n",
       "2             10.0         1.0  \n",
       "3             10.0         1.0  \n",
       "4             75.0         6.0  "
      ]
     },
     "execution_count": 47,
     "metadata": {},
     "output_type": "execute_result"
    }
   ],
   "source": [
    "starbucks_data.head()"
   ]
  },
  {
   "cell_type": "markdown",
   "metadata": {},
   "source": [
    "The Starbucks dataset seems ready for exploration now. So I'll move on to the last dataset - the __McDonalds__ dataset."
   ]
  },
  {
   "cell_type": "markdown",
   "metadata": {},
   "source": [
    "## Step 3 - The McDonalds dataset"
   ]
  },
  {
   "cell_type": "markdown",
   "metadata": {},
   "source": [
    "### Obtaining the dataset"
   ]
  },
  {
   "cell_type": "markdown",
   "metadata": {},
   "source": [
    "Similar to the Starbucks dataset, this one is also very simple to load"
   ]
  },
  {
   "cell_type": "code",
   "execution_count": 48,
   "metadata": {},
   "outputs": [],
   "source": [
    "mcd_menu_data=pd.read_csv(\"data/menu.csv\")"
   ]
  },
  {
   "cell_type": "code",
   "execution_count": 49,
   "metadata": {},
   "outputs": [],
   "source": [
    "assert_is_not_none(mcd_menu_data)"
   ]
  },
  {
   "cell_type": "markdown",
   "metadata": {},
   "source": [
    "### Cleaning the dataset"
   ]
  },
  {
   "cell_type": "markdown",
   "metadata": {},
   "source": [
    "I'm going to apply the same column name cleaning rules as in the previous dataset here, as the columns are almost identical. Also I'll change the `item` column to `product_name`, again to match the french product name column."
   ]
  },
  {
   "cell_type": "code",
   "execution_count": 50,
   "metadata": {},
   "outputs": [],
   "source": [
    "mcd_menu_data.columns=mcd_menu_data.columns.str.replace(\")\",\"\")\n",
    "mcd_menu_data.columns=mcd_menu_data.columns.str.replace(\" \",\"\")\n",
    "mcd_menu_data.columns=mcd_menu_data.columns.str.replace(\"(\",\"_\")\n",
    "mcd_menu_data.columns=mcd_menu_data.columns.str.lower()\n",
    "cols_to_keep=[\"category\",\"item\",\"calories\",\"totalfat\",\"carbohydrates\",\"protein\"]\n",
    "mcd_menu_data=mcd_menu_data[cols_to_keep]\n",
    "mcd_menu_data=mcd_menu_data.rename(columns={\"totalfat\":\"fat_g\",\n",
    "                                            \"item\":\"product_name\",\n",
    "                                           \"carbohydrates\":\"carbohydrates_g\",\n",
    "                                           \"protein\":\"proteins_g\"\n",
    "                                           })"
   ]
  },
  {
   "cell_type": "code",
   "execution_count": 51,
   "metadata": {},
   "outputs": [
    {
     "data": {
      "text/plain": [
       "(260, 6)"
      ]
     },
     "execution_count": 51,
     "metadata": {},
     "output_type": "execute_result"
    }
   ],
   "source": [
    "mcd_menu_data.shape"
   ]
  },
  {
   "cell_type": "markdown",
   "metadata": {},
   "source": [
    "The dataset should now have 260 observations and 6 features."
   ]
  },
  {
   "cell_type": "code",
   "execution_count": 52,
   "metadata": {},
   "outputs": [],
   "source": [
    "assert_equal(mcd_menu_data.shape,(260,6))"
   ]
  },
  {
   "cell_type": "code",
   "execution_count": 53,
   "metadata": {},
   "outputs": [
    {
     "data": {
      "text/html": [
       "<div>\n",
       "<style scoped>\n",
       "    .dataframe tbody tr th:only-of-type {\n",
       "        vertical-align: middle;\n",
       "    }\n",
       "\n",
       "    .dataframe tbody tr th {\n",
       "        vertical-align: top;\n",
       "    }\n",
       "\n",
       "    .dataframe thead th {\n",
       "        text-align: right;\n",
       "    }\n",
       "</style>\n",
       "<table border=\"1\" class=\"dataframe\">\n",
       "  <thead>\n",
       "    <tr style=\"text-align: right;\">\n",
       "      <th></th>\n",
       "      <th>category</th>\n",
       "      <th>product_name</th>\n",
       "      <th>calories</th>\n",
       "      <th>fat_g</th>\n",
       "      <th>carbohydrates_g</th>\n",
       "      <th>proteins_g</th>\n",
       "    </tr>\n",
       "  </thead>\n",
       "  <tbody>\n",
       "    <tr>\n",
       "      <th>0</th>\n",
       "      <td>Breakfast</td>\n",
       "      <td>Egg McMuffin</td>\n",
       "      <td>300</td>\n",
       "      <td>13.0</td>\n",
       "      <td>31</td>\n",
       "      <td>17</td>\n",
       "    </tr>\n",
       "    <tr>\n",
       "      <th>1</th>\n",
       "      <td>Breakfast</td>\n",
       "      <td>Egg White Delight</td>\n",
       "      <td>250</td>\n",
       "      <td>8.0</td>\n",
       "      <td>30</td>\n",
       "      <td>18</td>\n",
       "    </tr>\n",
       "    <tr>\n",
       "      <th>2</th>\n",
       "      <td>Breakfast</td>\n",
       "      <td>Sausage McMuffin</td>\n",
       "      <td>370</td>\n",
       "      <td>23.0</td>\n",
       "      <td>29</td>\n",
       "      <td>14</td>\n",
       "    </tr>\n",
       "    <tr>\n",
       "      <th>3</th>\n",
       "      <td>Breakfast</td>\n",
       "      <td>Sausage McMuffin with Egg</td>\n",
       "      <td>450</td>\n",
       "      <td>28.0</td>\n",
       "      <td>30</td>\n",
       "      <td>21</td>\n",
       "    </tr>\n",
       "    <tr>\n",
       "      <th>4</th>\n",
       "      <td>Breakfast</td>\n",
       "      <td>Sausage McMuffin with Egg Whites</td>\n",
       "      <td>400</td>\n",
       "      <td>23.0</td>\n",
       "      <td>30</td>\n",
       "      <td>21</td>\n",
       "    </tr>\n",
       "  </tbody>\n",
       "</table>\n",
       "</div>"
      ],
      "text/plain": [
       "    category                      product_name  calories  fat_g  \\\n",
       "0  Breakfast                      Egg McMuffin       300   13.0   \n",
       "1  Breakfast                 Egg White Delight       250    8.0   \n",
       "2  Breakfast                  Sausage McMuffin       370   23.0   \n",
       "3  Breakfast         Sausage McMuffin with Egg       450   28.0   \n",
       "4  Breakfast  Sausage McMuffin with Egg Whites       400   23.0   \n",
       "\n",
       "   carbohydrates_g  proteins_g  \n",
       "0               31          17  \n",
       "1               30          18  \n",
       "2               29          14  \n",
       "3               30          21  \n",
       "4               30          21  "
      ]
     },
     "execution_count": 53,
     "metadata": {},
     "output_type": "execute_result"
    }
   ],
   "source": [
    "mcd_menu_data.head()"
   ]
  },
  {
   "cell_type": "markdown",
   "metadata": {},
   "source": [
    "I'll analyze the data types of the columns again."
   ]
  },
  {
   "cell_type": "code",
   "execution_count": 54,
   "metadata": {},
   "outputs": [
    {
     "data": {
      "text/plain": [
       "category            object\n",
       "product_name        object\n",
       "calories             int64\n",
       "fat_g              float64\n",
       "carbohydrates_g      int64\n",
       "proteins_g           int64\n",
       "dtype: object"
      ]
     },
     "execution_count": 54,
     "metadata": {},
     "output_type": "execute_result"
    }
   ],
   "source": [
    "mcd_menu_data.dtypes"
   ]
  },
  {
   "cell_type": "markdown",
   "metadata": {},
   "source": [
    "Similar to the previous dataset, the carbohydrates and the proteins columns are rounded to integers. I'll convert them to `float` to match the french product data types."
   ]
  },
  {
   "cell_type": "code",
   "execution_count": 55,
   "metadata": {},
   "outputs": [],
   "source": [
    "mcd_menu_data.carbohydrates_g=mcd_menu_data.carbohydrates_g.astype(float)\n",
    "mcd_menu_data.proteins_g=mcd_menu_data.proteins_g.astype(float)"
   ]
  },
  {
   "cell_type": "code",
   "execution_count": 56,
   "metadata": {},
   "outputs": [],
   "source": [
    "assert_equal(mcd_menu_data.carbohydrates_g.dtype,float)\n",
    "assert_equal(mcd_menu_data.proteins_g.dtype,float)"
   ]
  },
  {
   "cell_type": "code",
   "execution_count": 57,
   "metadata": {},
   "outputs": [
    {
     "data": {
      "text/html": [
       "<div>\n",
       "<style scoped>\n",
       "    .dataframe tbody tr th:only-of-type {\n",
       "        vertical-align: middle;\n",
       "    }\n",
       "\n",
       "    .dataframe tbody tr th {\n",
       "        vertical-align: top;\n",
       "    }\n",
       "\n",
       "    .dataframe thead th {\n",
       "        text-align: right;\n",
       "    }\n",
       "</style>\n",
       "<table border=\"1\" class=\"dataframe\">\n",
       "  <thead>\n",
       "    <tr style=\"text-align: right;\">\n",
       "      <th></th>\n",
       "      <th>category</th>\n",
       "      <th>product_name</th>\n",
       "      <th>calories</th>\n",
       "      <th>fat_g</th>\n",
       "      <th>carbohydrates_g</th>\n",
       "      <th>proteins_g</th>\n",
       "    </tr>\n",
       "  </thead>\n",
       "  <tbody>\n",
       "    <tr>\n",
       "      <th>0</th>\n",
       "      <td>Breakfast</td>\n",
       "      <td>Egg McMuffin</td>\n",
       "      <td>300</td>\n",
       "      <td>13.0</td>\n",
       "      <td>31.0</td>\n",
       "      <td>17.0</td>\n",
       "    </tr>\n",
       "    <tr>\n",
       "      <th>1</th>\n",
       "      <td>Breakfast</td>\n",
       "      <td>Egg White Delight</td>\n",
       "      <td>250</td>\n",
       "      <td>8.0</td>\n",
       "      <td>30.0</td>\n",
       "      <td>18.0</td>\n",
       "    </tr>\n",
       "    <tr>\n",
       "      <th>2</th>\n",
       "      <td>Breakfast</td>\n",
       "      <td>Sausage McMuffin</td>\n",
       "      <td>370</td>\n",
       "      <td>23.0</td>\n",
       "      <td>29.0</td>\n",
       "      <td>14.0</td>\n",
       "    </tr>\n",
       "    <tr>\n",
       "      <th>3</th>\n",
       "      <td>Breakfast</td>\n",
       "      <td>Sausage McMuffin with Egg</td>\n",
       "      <td>450</td>\n",
       "      <td>28.0</td>\n",
       "      <td>30.0</td>\n",
       "      <td>21.0</td>\n",
       "    </tr>\n",
       "    <tr>\n",
       "      <th>4</th>\n",
       "      <td>Breakfast</td>\n",
       "      <td>Sausage McMuffin with Egg Whites</td>\n",
       "      <td>400</td>\n",
       "      <td>23.0</td>\n",
       "      <td>30.0</td>\n",
       "      <td>21.0</td>\n",
       "    </tr>\n",
       "  </tbody>\n",
       "</table>\n",
       "</div>"
      ],
      "text/plain": [
       "    category                      product_name  calories  fat_g  \\\n",
       "0  Breakfast                      Egg McMuffin       300   13.0   \n",
       "1  Breakfast                 Egg White Delight       250    8.0   \n",
       "2  Breakfast                  Sausage McMuffin       370   23.0   \n",
       "3  Breakfast         Sausage McMuffin with Egg       450   28.0   \n",
       "4  Breakfast  Sausage McMuffin with Egg Whites       400   23.0   \n",
       "\n",
       "   carbohydrates_g  proteins_g  \n",
       "0             31.0        17.0  \n",
       "1             30.0        18.0  \n",
       "2             29.0        14.0  \n",
       "3             30.0        21.0  \n",
       "4             30.0        21.0  "
      ]
     },
     "execution_count": 57,
     "metadata": {},
     "output_type": "execute_result"
    }
   ],
   "source": [
    "mcd_menu_data.head()"
   ]
  },
  {
   "cell_type": "markdown",
   "metadata": {},
   "source": [
    "Finally, let's confirm that the proteins and carbohydrates column values are correct."
   ]
  },
  {
   "cell_type": "code",
   "execution_count": 58,
   "metadata": {},
   "outputs": [
    {
     "data": {
      "text/plain": [
       "array([17., 18., 14., 21., 26., 19., 20., 11., 25., 30., 33., 28., 36.,\n",
       "       35.,  8., 15., 12.,  1.,  6.,  5., 24., 37., 29., 48., 39., 22.,\n",
       "       27., 40., 32., 31., 23.,  9., 13., 44., 87., 16.,  2.,  4.,  0.,\n",
       "        7.,  3., 10.])"
      ]
     },
     "execution_count": 58,
     "metadata": {},
     "output_type": "execute_result"
    }
   ],
   "source": [
    "mcd_menu_data.proteins_g.unique()"
   ]
  },
  {
   "cell_type": "code",
   "execution_count": 59,
   "metadata": {},
   "outputs": [
    {
     "data": {
      "text/plain": [
       "array([ 31.,  30.,  29.,  38.,  43.,  36.,  42.,  34.,  39.,  40.,  41.,\n",
       "        46.,  48.,  47.,  44.,  57.,  55.,  56.,  51.,  50., 111., 116.,\n",
       "       110., 115.,  60.,  61.,  26.,  15.,  66.,  58.,  49.,  45.,  32.,\n",
       "        33.,  35.,  65.,  68.,  12.,  18.,  59., 118.,  10.,  22.,   8.,\n",
       "        20.,  28.,  37.,  27.,  25.,  67.,   4.,  21.,   7.,  53.,  76.,\n",
       "         0.,  72.,  54.,  74.,  23.,  24.,  62.,  19.,  63.,  73.,   9.,\n",
       "        70.,  71.,  80.,  98.,  64.,  79.,  96.,  91.,  78.,  86., 109.,\n",
       "       135.,  90., 114., 140., 141., 139., 106.])"
      ]
     },
     "execution_count": 59,
     "metadata": {},
     "output_type": "execute_result"
    }
   ],
   "source": [
    "mcd_menu_data.carbohydrates_g.unique()"
   ]
  },
  {
   "cell_type": "markdown",
   "metadata": {},
   "source": [
    "This dataset seems clean now.<br><br>\n",
    "We are finally finished with the rigorous cleaning process. Now we can move on to exploring the data.<br><br>"
   ]
  },
  {
   "cell_type": "markdown",
   "metadata": {},
   "source": [
    "## Step 4 - Export the cleaned datasets"
   ]
  },
  {
   "cell_type": "markdown",
   "metadata": {},
   "source": [
    "As a final step, I'm just going to export the cleaned datasets into `.csv` files for easy usage in part 2, while also removing the index column, because it isn't needed in this case."
   ]
  },
  {
   "cell_type": "code",
   "execution_count": 60,
   "metadata": {},
   "outputs": [],
   "source": [
    "mcd_menu_data.to_csv(\"data/mcd_menu_scrubbed.csv\",index=False)\n",
    "starbucks_data.to_csv(\"data/star_menu_scrubbed.csv\",index=False)\n",
    "world_food_data.to_csv(\"data/world_food_scrubbed.csv\",index=False)"
   ]
  }
 ],
 "metadata": {
  "kernelspec": {
   "display_name": "Python 3",
   "language": "python",
   "name": "python3"
  },
  "language_info": {
   "codemirror_mode": {
    "name": "ipython",
    "version": 3
   },
   "file_extension": ".py",
   "mimetype": "text/x-python",
   "name": "python",
   "nbconvert_exporter": "python",
   "pygments_lexer": "ipython3",
   "version": "3.6.5"
  }
 },
 "nbformat": 4,
 "nbformat_minor": 2
}
