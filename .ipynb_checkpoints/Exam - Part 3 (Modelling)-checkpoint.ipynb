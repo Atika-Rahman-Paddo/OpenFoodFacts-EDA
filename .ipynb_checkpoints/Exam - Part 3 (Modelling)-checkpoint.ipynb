{
 "cells": [
  {
   "cell_type": "markdown",
   "metadata": {},
   "source": [
    "# SoftUni Data Science Exam Project - Part 3 (Modelling)"
   ]
  },
  {
   "cell_type": "markdown",
   "metadata": {},
   "source": [
    "## Created by Konstantin Georgiev\n",
    "### Email: dragonflareful@gmail.com"
   ]
  },
  {
   "cell_type": "markdown",
   "metadata": {},
   "source": [
    "Next up, just for fun, I'll try to apply logistic regression and make a model which will predict whether a product contains additives or not."
   ]
  },
  {
   "cell_type": "code",
   "execution_count": 1,
   "metadata": {},
   "outputs": [],
   "source": [
    "import pandas as pd\n",
    "import numpy as np\n",
    "\n",
    "from sklearn.preprocessing import MaxAbsScaler\n",
    "from sklearn.model_selection import train_test_split\n",
    "from sklearn.linear_model import LogisticRegression\n",
    "\n",
    "from nose.tools import *"
   ]
  },
  {
   "cell_type": "markdown",
   "metadata": {},
   "source": [
    "## Step 1 - Obtaining the data"
   ]
  },
  {
   "cell_type": "markdown",
   "metadata": {},
   "source": [
    "First up, of course, we'll load the cleaned french products dataset from __Part 1__."
   ]
  },
  {
   "cell_type": "code",
   "execution_count": 2,
   "metadata": {},
   "outputs": [],
   "source": [
    "world_food_data=pd.read_csv(\"data/world_food_scrubbed.csv\")"
   ]
  },
  {
   "cell_type": "markdown",
   "metadata": {},
   "source": [
    "As we previosly saw, the dataset should have 71091 observations and 13 features."
   ]
  },
  {
   "cell_type": "code",
   "execution_count": 3,
   "metadata": {},
   "outputs": [],
   "source": [
    "assert_is_not_none(world_food_data)\n",
    "assert_equal(world_food_data.shape,(71091,13))"
   ]
  },
  {
   "cell_type": "code",
   "execution_count": 4,
   "metadata": {},
   "outputs": [
    {
     "data": {
      "text/html": [
       "<div>\n",
       "<style scoped>\n",
       "    .dataframe tbody tr th:only-of-type {\n",
       "        vertical-align: middle;\n",
       "    }\n",
       "\n",
       "    .dataframe tbody tr th {\n",
       "        vertical-align: top;\n",
       "    }\n",
       "\n",
       "    .dataframe thead th {\n",
       "        text-align: right;\n",
       "    }\n",
       "</style>\n",
       "<table border=\"1\" class=\"dataframe\">\n",
       "  <thead>\n",
       "    <tr style=\"text-align: right;\">\n",
       "      <th></th>\n",
       "      <th>product_name</th>\n",
       "      <th>packaging</th>\n",
       "      <th>main_category</th>\n",
       "      <th>nutrition_grade_fr</th>\n",
       "      <th>nutrition_score</th>\n",
       "      <th>fat_g</th>\n",
       "      <th>carbohydrates_g</th>\n",
       "      <th>proteins_g</th>\n",
       "      <th>additives_n</th>\n",
       "      <th>ingredients_from_palm_oil_n</th>\n",
       "      <th>fp_lat</th>\n",
       "      <th>fp_lon</th>\n",
       "      <th>contains_additives</th>\n",
       "    </tr>\n",
       "  </thead>\n",
       "  <tbody>\n",
       "    <tr>\n",
       "      <th>0</th>\n",
       "      <td>Salade Cesar</td>\n",
       "      <td>frais</td>\n",
       "      <td>plant-based-foods-and-beverages</td>\n",
       "      <td>c</td>\n",
       "      <td>6</td>\n",
       "      <td>12.00</td>\n",
       "      <td>23.00</td>\n",
       "      <td>22.00</td>\n",
       "      <td>0</td>\n",
       "      <td>0</td>\n",
       "      <td>47.63</td>\n",
       "      <td>-2.67</td>\n",
       "      <td>0</td>\n",
       "    </tr>\n",
       "    <tr>\n",
       "      <th>1</th>\n",
       "      <td>Chaussons tressés aux pommes</td>\n",
       "      <td>frais</td>\n",
       "      <td>sugary-snacks</td>\n",
       "      <td>c</td>\n",
       "      <td>9</td>\n",
       "      <td>10.70</td>\n",
       "      <td>38.70</td>\n",
       "      <td>3.33</td>\n",
       "      <td>5</td>\n",
       "      <td>0</td>\n",
       "      <td>47.63</td>\n",
       "      <td>-2.67</td>\n",
       "      <td>1</td>\n",
       "    </tr>\n",
       "    <tr>\n",
       "      <th>2</th>\n",
       "      <td>Pain Burger Artisan</td>\n",
       "      <td>frais,plastique</td>\n",
       "      <td>boulange</td>\n",
       "      <td>b</td>\n",
       "      <td>1</td>\n",
       "      <td>1.11</td>\n",
       "      <td>53.30</td>\n",
       "      <td>10.00</td>\n",
       "      <td>0</td>\n",
       "      <td>0</td>\n",
       "      <td>47.63</td>\n",
       "      <td>-2.67</td>\n",
       "      <td>0</td>\n",
       "    </tr>\n",
       "    <tr>\n",
       "      <th>3</th>\n",
       "      <td>Root Beer</td>\n",
       "      <td>canette,métal</td>\n",
       "      <td>beverages</td>\n",
       "      <td>e</td>\n",
       "      <td>18</td>\n",
       "      <td>0.00</td>\n",
       "      <td>14.20</td>\n",
       "      <td>0.00</td>\n",
       "      <td>3</td>\n",
       "      <td>0</td>\n",
       "      <td>47.63</td>\n",
       "      <td>-2.67</td>\n",
       "      <td>1</td>\n",
       "    </tr>\n",
       "    <tr>\n",
       "      <th>4</th>\n",
       "      <td>Quiche Lorraine</td>\n",
       "      <td>frai</td>\n",
       "      <td>meals</td>\n",
       "      <td>b</td>\n",
       "      <td>2</td>\n",
       "      <td>6.79</td>\n",
       "      <td>7.86</td>\n",
       "      <td>5.36</td>\n",
       "      <td>3</td>\n",
       "      <td>0</td>\n",
       "      <td>47.63</td>\n",
       "      <td>-2.67</td>\n",
       "      <td>1</td>\n",
       "    </tr>\n",
       "  </tbody>\n",
       "</table>\n",
       "</div>"
      ],
      "text/plain": [
       "                   product_name        packaging  \\\n",
       "0                  Salade Cesar            frais   \n",
       "1  Chaussons tressés aux pommes            frais   \n",
       "2           Pain Burger Artisan  frais,plastique   \n",
       "3                     Root Beer    canette,métal   \n",
       "4               Quiche Lorraine             frai   \n",
       "\n",
       "                     main_category nutrition_grade_fr  nutrition_score  fat_g  \\\n",
       "0  plant-based-foods-and-beverages                  c                6  12.00   \n",
       "1                    sugary-snacks                  c                9  10.70   \n",
       "2                         boulange                  b                1   1.11   \n",
       "3                        beverages                  e               18   0.00   \n",
       "4                            meals                  b                2   6.79   \n",
       "\n",
       "   carbohydrates_g  proteins_g  additives_n  ingredients_from_palm_oil_n  \\\n",
       "0            23.00       22.00            0                            0   \n",
       "1            38.70        3.33            5                            0   \n",
       "2            53.30       10.00            0                            0   \n",
       "3            14.20        0.00            3                            0   \n",
       "4             7.86        5.36            3                            0   \n",
       "\n",
       "   fp_lat  fp_lon  contains_additives  \n",
       "0   47.63   -2.67                   0  \n",
       "1   47.63   -2.67                   1  \n",
       "2   47.63   -2.67                   0  \n",
       "3   47.63   -2.67                   1  \n",
       "4   47.63   -2.67                   1  "
      ]
     },
     "execution_count": 4,
     "metadata": {},
     "output_type": "execute_result"
    }
   ],
   "source": [
    "world_food_data.head()"
   ]
  },
  {
   "cell_type": "markdown",
   "metadata": {},
   "source": [
    "## Step 2 - Preparing the data for modelling"
   ]
  },
  {
   "cell_type": "markdown",
   "metadata": {},
   "source": [
    "I'm going to drop the columns which I'm not going to use for training and confirm that the number of features is __8__."
   ]
  },
  {
   "cell_type": "code",
   "execution_count": 5,
   "metadata": {},
   "outputs": [],
   "source": [
    "world_food_data.drop(columns=[\"product_name\",\"packaging\",\"additives_n\",\"fp_lat\",\"fp_lon\"],inplace=True)"
   ]
  },
  {
   "cell_type": "code",
   "execution_count": 6,
   "metadata": {},
   "outputs": [],
   "source": [
    "assert_equal(world_food_data.shape[1],8)"
   ]
  },
  {
   "cell_type": "code",
   "execution_count": 7,
   "metadata": {},
   "outputs": [
    {
     "data": {
      "text/html": [
       "<div>\n",
       "<style scoped>\n",
       "    .dataframe tbody tr th:only-of-type {\n",
       "        vertical-align: middle;\n",
       "    }\n",
       "\n",
       "    .dataframe tbody tr th {\n",
       "        vertical-align: top;\n",
       "    }\n",
       "\n",
       "    .dataframe thead th {\n",
       "        text-align: right;\n",
       "    }\n",
       "</style>\n",
       "<table border=\"1\" class=\"dataframe\">\n",
       "  <thead>\n",
       "    <tr style=\"text-align: right;\">\n",
       "      <th></th>\n",
       "      <th>main_category</th>\n",
       "      <th>nutrition_grade_fr</th>\n",
       "      <th>nutrition_score</th>\n",
       "      <th>fat_g</th>\n",
       "      <th>carbohydrates_g</th>\n",
       "      <th>proteins_g</th>\n",
       "      <th>ingredients_from_palm_oil_n</th>\n",
       "      <th>contains_additives</th>\n",
       "    </tr>\n",
       "  </thead>\n",
       "  <tbody>\n",
       "    <tr>\n",
       "      <th>0</th>\n",
       "      <td>plant-based-foods-and-beverages</td>\n",
       "      <td>c</td>\n",
       "      <td>6</td>\n",
       "      <td>12.00</td>\n",
       "      <td>23.00</td>\n",
       "      <td>22.00</td>\n",
       "      <td>0</td>\n",
       "      <td>0</td>\n",
       "    </tr>\n",
       "    <tr>\n",
       "      <th>1</th>\n",
       "      <td>sugary-snacks</td>\n",
       "      <td>c</td>\n",
       "      <td>9</td>\n",
       "      <td>10.70</td>\n",
       "      <td>38.70</td>\n",
       "      <td>3.33</td>\n",
       "      <td>0</td>\n",
       "      <td>1</td>\n",
       "    </tr>\n",
       "    <tr>\n",
       "      <th>2</th>\n",
       "      <td>boulange</td>\n",
       "      <td>b</td>\n",
       "      <td>1</td>\n",
       "      <td>1.11</td>\n",
       "      <td>53.30</td>\n",
       "      <td>10.00</td>\n",
       "      <td>0</td>\n",
       "      <td>0</td>\n",
       "    </tr>\n",
       "    <tr>\n",
       "      <th>3</th>\n",
       "      <td>beverages</td>\n",
       "      <td>e</td>\n",
       "      <td>18</td>\n",
       "      <td>0.00</td>\n",
       "      <td>14.20</td>\n",
       "      <td>0.00</td>\n",
       "      <td>0</td>\n",
       "      <td>1</td>\n",
       "    </tr>\n",
       "    <tr>\n",
       "      <th>4</th>\n",
       "      <td>meals</td>\n",
       "      <td>b</td>\n",
       "      <td>2</td>\n",
       "      <td>6.79</td>\n",
       "      <td>7.86</td>\n",
       "      <td>5.36</td>\n",
       "      <td>0</td>\n",
       "      <td>1</td>\n",
       "    </tr>\n",
       "  </tbody>\n",
       "</table>\n",
       "</div>"
      ],
      "text/plain": [
       "                     main_category nutrition_grade_fr  nutrition_score  fat_g  \\\n",
       "0  plant-based-foods-and-beverages                  c                6  12.00   \n",
       "1                    sugary-snacks                  c                9  10.70   \n",
       "2                         boulange                  b                1   1.11   \n",
       "3                        beverages                  e               18   0.00   \n",
       "4                            meals                  b                2   6.79   \n",
       "\n",
       "   carbohydrates_g  proteins_g  ingredients_from_palm_oil_n  \\\n",
       "0            23.00       22.00                            0   \n",
       "1            38.70        3.33                            0   \n",
       "2            53.30       10.00                            0   \n",
       "3            14.20        0.00                            0   \n",
       "4             7.86        5.36                            0   \n",
       "\n",
       "   contains_additives  \n",
       "0                   0  \n",
       "1                   1  \n",
       "2                   0  \n",
       "3                   1  \n",
       "4                   1  "
      ]
     },
     "execution_count": 7,
     "metadata": {},
     "output_type": "execute_result"
    }
   ],
   "source": [
    "world_food_data.head()"
   ]
  },
  {
   "cell_type": "markdown",
   "metadata": {},
   "source": [
    "After that I'm going to prepare the data for modelling a bit.<br>First, I'll call the `pd.get_dummies()` function in `pandas` which will expand our features based on each unique row value and change these values to numeric ones. Next I'm going to drop the `contains_additives` column and use it as a __target__, since this will be our prediction."
   ]
  },
  {
   "cell_type": "code",
   "execution_count": 8,
   "metadata": {},
   "outputs": [],
   "source": [
    "world_food_data_for_modelling=pd.get_dummies(world_food_data)\n",
    "world_food_data_features=world_food_data_for_modelling.drop(columns=[\"contains_additives\"])\n",
    "world_food_data_target=world_food_data.contains_additives"
   ]
  },
  {
   "cell_type": "code",
   "execution_count": 9,
   "metadata": {},
   "outputs": [
    {
     "data": {
      "text/plain": [
       "1935"
      ]
     },
     "execution_count": 9,
     "metadata": {},
     "output_type": "execute_result"
    }
   ],
   "source": [
    "world_food_data_for_modelling.shape[1]"
   ]
  },
  {
   "cell_type": "markdown",
   "metadata": {},
   "source": [
    "The features should be one less than the entire dataframe and the target should only be one column."
   ]
  },
  {
   "cell_type": "code",
   "execution_count": 10,
   "metadata": {},
   "outputs": [],
   "source": [
    "assert_equal(world_food_data_for_modelling.shape[1],1935)\n",
    "assert_equal(world_food_data_features.shape[1],1934)\n",
    "assert_equal(world_food_data_target.shape,(71091,))"
   ]
  },
  {
   "cell_type": "markdown",
   "metadata": {},
   "source": [
    "For preprocessing I will use scipy's `MaxAbsScaler`, which scales each feature by its maximum absolute value."
   ]
  },
  {
   "cell_type": "code",
   "execution_count": 11,
   "metadata": {},
   "outputs": [],
   "source": [
    "scaler=MaxAbsScaler()\n",
    "world_food_data_features_scaled = scaler.fit_transform(world_food_data_features)"
   ]
  },
  {
   "cell_type": "code",
   "execution_count": 12,
   "metadata": {},
   "outputs": [],
   "source": [
    "assert_is_not_none(world_food_data_features_scaled)"
   ]
  },
  {
   "cell_type": "code",
   "execution_count": 13,
   "metadata": {},
   "outputs": [
    {
     "name": "stdout",
     "output_type": "stream",
     "text": [
      "[[ 0.15        0.11428571  0.13939394 ...  1.          0.\n",
      "   0.        ]\n",
      " [ 0.225       0.10190476  0.23454545 ...  1.          0.\n",
      "   0.        ]\n",
      " [ 0.025       0.01057143  0.3230303  ...  0.          0.\n",
      "   0.        ]\n",
      " ...\n",
      " [-0.05        0.00952381  0.00606061 ...  0.          0.\n",
      "   0.        ]\n",
      " [ 0.325       0.4         0.03030303 ...  0.          1.\n",
      "   0.        ]\n",
      " [-0.1         0.02666667  0.45333333 ...  0.          0.\n",
      "   0.        ]]\n"
     ]
    }
   ],
   "source": [
    "print(world_food_data_features_scaled)"
   ]
  },
  {
   "cell_type": "markdown",
   "metadata": {},
   "source": [
    "There are 71091 observations and 1934 features total so this takes a while to compute."
   ]
  },
  {
   "cell_type": "markdown",
   "metadata": {},
   "source": [
    "## Step 3 - Training and test split and creating the model"
   ]
  },
  {
   "cell_type": "markdown",
   "metadata": {},
   "source": [
    "The next step would be to split the data into training and test sets. I've decided to go with a __70/30__ split, because if I did __80/20__ it would take a bit longer for the model to train."
   ]
  },
  {
   "cell_type": "code",
   "execution_count": 14,
   "metadata": {},
   "outputs": [],
   "source": [
    "features_train, features_test, target_train, target_test = train_test_split(\n",
    "    world_food_data_features_scaled, world_food_data_target, train_size = 0.7, test_size = 0.3, random_state = 42)"
   ]
  },
  {
   "cell_type": "code",
   "execution_count": 15,
   "metadata": {},
   "outputs": [
    {
     "name": "stdout",
     "output_type": "stream",
     "text": [
      "Training data shapes: Features:(49763, 1934), Labels:(49763,)\n",
      "Test data shapes: Features:(21328, 1934), Labels:(21328,)\n"
     ]
    }
   ],
   "source": [
    "print(\"Training data shapes: Features:{}, Labels:{}\".format(features_train.shape,target_train.shape))\n",
    "print(\"Test data shapes: Features:{}, Labels:{}\".format(features_test.shape,target_test.shape))"
   ]
  },
  {
   "cell_type": "markdown",
   "metadata": {},
   "source": [
    "Now we have obtained our training and test set and we can apply a simple logistic regression model with no parameters and try to predict whether the test products contain additives or not."
   ]
  },
  {
   "cell_type": "code",
   "execution_count": 16,
   "metadata": {},
   "outputs": [
    {
     "data": {
      "text/plain": [
       "LogisticRegression(C=1.0, class_weight=None, dual=False, fit_intercept=True,\n",
       "          intercept_scaling=1, max_iter=100, multi_class='ovr', n_jobs=1,\n",
       "          penalty='l2', random_state=None, solver='liblinear', tol=0.0001,\n",
       "          verbose=0, warm_start=False)"
      ]
     },
     "execution_count": 16,
     "metadata": {},
     "output_type": "execute_result"
    }
   ],
   "source": [
    "model=LogisticRegression()\n",
    "model.fit(features_train,target_train)"
   ]
  },
  {
   "cell_type": "code",
   "execution_count": 17,
   "metadata": {},
   "outputs": [],
   "source": [
    "assert_is_not_none(model)"
   ]
  },
  {
   "cell_type": "markdown",
   "metadata": {},
   "source": [
    "## Step 4 - Scoring the model"
   ]
  },
  {
   "cell_type": "markdown",
   "metadata": {},
   "source": [
    "The training is complete! Now we can see how well our model performed by printing the accuracy."
   ]
  },
  {
   "cell_type": "code",
   "execution_count": 18,
   "metadata": {},
   "outputs": [
    {
     "name": "stdout",
     "output_type": "stream",
     "text": [
      "Additives prediction accuracy: 70.11\n"
     ]
    }
   ],
   "source": [
    "score = model.score(features_test,target_test)\n",
    "print(\"Additives prediction accuracy: {:.2f}\".format(score*100))"
   ]
  },
  {
   "cell_type": "code",
   "execution_count": 19,
   "metadata": {},
   "outputs": [],
   "source": [
    "assert_greater(score,0.5)\n",
    "assert_less_equal(score,1)"
   ]
  },
  {
   "cell_type": "markdown",
   "metadata": {},
   "source": [
    "The model has an overall accuracy of around __70%__. This isn't that bad considering that we used a simple regression model with no regularization applied.<br><br> This concludes our research. Now let's see what the results look like."
   ]
  },
  {
   "cell_type": "markdown",
   "metadata": {},
   "source": [
    "## Answers to the problem statements"
   ]
  },
  {
   "cell_type": "markdown",
   "metadata": {},
   "source": [
    "- __Which nutrient has the biggest impact on the nutrition grade?__<br><br>\n",
    "__Answer:__ Based on grouping and hypothesis testing the result was __fat__.<br><br>\n",
    "- __How do french meat and beverages compare to McDonalds meat and Starbucks beverages in terms of nutrients?__<br><br>\n",
    "__Answer:__ The french beverages proved to be a lot healhtier than Starbucks beverages, as they were mostly plant-based. The french meat proved to be less healthier than McDonalds meat in general.<br><br>\n",
    "- __Do other factors like food packaging, additive count and palm oil in the ingredients, have an impact on the nutrition value?__<br><br>\n",
    "__Answer:__ There seemed to be some indicators, but mostly these factors followed more or less the same patterns when compared to the nutrition value. So the answer here is no.<br><br>"
   ]
  },
  {
   "cell_type": "markdown",
   "metadata": {},
   "source": [
    "## Project conclusion"
   ]
  },
  {
   "cell_type": "markdown",
   "metadata": {},
   "source": [
    "In conclusion, I've made an attempt to make an in-depth research on the nutrition level of french products and what affects them by exploring the __Open Food Facts__ dataset and comparing it to the __Starbucks__ and __McDonalds__ datasets in terms of nutrtion value. I think the research was a success as I managed to answer the questions I laid out in the beginning of the project. I also hope that this project was of interest to the reader and that maybe it provided some helpful information on this topic."
   ]
  },
  {
   "cell_type": "markdown",
   "metadata": {},
   "source": [
    "## Resources"
   ]
  },
  {
   "cell_type": "markdown",
   "metadata": {},
   "source": [
    "https://towardsdatascience.com/ - insights on Data Science and Machine Learning<br>\n",
    "https://www.webmd.com/diet - food nutrition statistics<br>\n",
    "https://www.foodnavigator.com/Article/2017/10/31/Nutri-Score-labelling-comes-into-force-in-France - information on the french nutrition scoring system<br>\n",
    "https://www.healthline.com/health/food-nutrition/ - information on the most crucial nutrients for the human body"
   ]
  },
  {
   "cell_type": "markdown",
   "metadata": {},
   "source": [
    "## Communication and contacts"
   ]
  },
  {
   "cell_type": "markdown",
   "metadata": {},
   "source": [
    "If you have any questions, criticism or suggestions feel free to email me at: dragonflareful@gmail.com<br>This project will be shared on my GitHub page: https://github.com/JadeBlue96 and it will be free to fork, use and manipulate to the public.<br>This project will also be submitted as a kernel at https://www.kaggle.com/openfoodfacts/world-food-facts/kernels.<br>I will also appreciate any type of feedback on this matter."
   ]
  },
  {
   "cell_type": "markdown",
   "metadata": {},
   "source": [
    "## Acknowledgements"
   ]
  },
  {
   "cell_type": "markdown",
   "metadata": {},
   "source": [
    "Many thanks to Yordan Darakchiev for his insights and examples on his Data Science course at SoftUni."
   ]
  }
 ],
 "metadata": {
  "kernelspec": {
   "display_name": "Python 3",
   "language": "python",
   "name": "python3"
  },
  "language_info": {
   "codemirror_mode": {
    "name": "ipython",
    "version": 3
   },
   "file_extension": ".py",
   "mimetype": "text/x-python",
   "name": "python",
   "nbconvert_exporter": "python",
   "pygments_lexer": "ipython3",
   "version": "3.6.5"
  }
 },
 "nbformat": 4,
 "nbformat_minor": 2
}
